{
 "cells": [
  {
   "cell_type": "markdown",
   "id": "77227549-a69e-43c6-ad9f-26896509079d",
   "metadata": {},
   "source": [
    "<p style=\"text-align:center\">\n",
    "    <a href=\"https://skills.network\" target=\"_blank\">\n",
    "    <img src=\"https://cf-courses-data.s3.us.cloud-object-storage.appdomain.cloud/assets/logos/SN_web_lightmode.png\" width=\"200\" alt=\"Skills Network Logo\">\n",
    "    </a>\n",
    "</p>\n"
   ]
  },
  {
   "cell_type": "markdown",
   "id": "91f1f6dc-3983-423c-9a77-031082c7a3e8",
   "metadata": {},
   "source": [
    "# RAG with PyTorch\n",
    "Estimated time needed: **60** minutes\n",
    "\n",
    "\n",
    "\n",
    "## Introduction\n",
    "As a machine learning engineer hired by a social media company, your task is determining whether songs shared on the platform are appropriate for children. Given the high costs associated with processing each song using large language models (LLMs) for content evaluation, an alternative method using retrieval-augmented generation (RAG) is proposed. RAG combines the benefits of a retriever model, which fetches relevant information (in this case, embeddings of pre-answered content appropriateness questions), and a generator model, which uses this information to predict the appropriateness of new content. This approach efficiently scales the evaluation process while ensuring that each song's content is scrutinized for child safety without the overhead of running a full LLM for each song.\n",
    "\n",
    "![A big yellow bird puppet and a purple dinosaur puppet singing next to a rapper and a metal band singer](https://cf-courses-data.s3.us.cloud-object-storage.appdomain.cloud/MGy9JGkmyNnnTPqNlXk2uw/The%20scene%20is%20lively%20and%20colorful.jpg)\n"
   ]
  },
  {
   "cell_type": "markdown",
   "id": "e5e0707e-d573-4e2f-9b22-f7320e42c507",
   "metadata": {},
   "source": [
    "# __Table of Contents__\n",
    "\n",
    "<ol>\n",
    "    <li><a href=\"#Objectives\">Objectives</a></li>\n",
    "    <li>\n",
    "        <a href=\"#Setup\">Setup</a>\n",
    "        <ol>\n",
    "            <li><a href=\"#Installing-required-libraries\">Installing required libraries</a></li>\n",
    "            <li><a href=\"#Importing-required-libraries\">Importing required libraries</a></li>\n",
    "            <li><a href=\"#Defining-helper-functions\">Defining helper functions</a></li>\n",
    "        </ol>\n",
    "    </li>\n",
    "    <li>\n",
    "        <a href=\"#Embeddings-using-BERT-and-PyTorch-Hub\">Embeddings using BERT and PyTorch Hub</a>\n",
    "        <ol>\n",
    "            <li><a href=\"#Loading-tokenizer-and-model\">Loading tokenizer and model</a>\n",
    "                <ol>\n",
    "                    <li><a href=\"#Tokenization\">Tokenization</a></li>\n",
    "                    <li><a href=\"#Text-decoding-and-verification\">Text decoding and verification</a></li>\n",
    "                    <li><a href=\"#Device-and-Convert-Tensor\">Device and Convert Tensor</a></li>\n",
    "                    <li><a href=\"#Loading-the-BERT-model\">Loading the BERT model</a></li>\n",
    "                    <li><a href=\"#Generating-aggregated-mean-embeddings-using-BERT-for-RAG\">Generating aggregated mean embeddings using BERT for RAG</a></li>\n",
    "                </ol>\n",
    "            </li>\n",
    "        </ol>\n",
    "    </li>\n",
    "    <li><a href=\"#Convert-questions-and-the-song-lyrics-into-embeddings\">Convert questions and the song lyrics into embeddings</a></li>\n",
    "    <li><a href=\"#Understanding-the-dot-product\">Understanding the dot product</a></li>\n",
    "    <li>\n",
    "        <a href=\"#Exercise\">Exercise</a>\n",
    "        <ol>\n",
    "            <li><a href=\"#Task-description\">Task description</a></li>\n",
    "        </ol>\n",
    "    </li>\n",
    "</ol>\n"
   ]
  },
  {
   "cell_type": "markdown",
   "id": "a33e96fb-0623-4d11-ae8c-e8eb5abefdf1",
   "metadata": {},
   "source": [
    "---\n"
   ]
  },
  {
   "cell_type": "markdown",
   "id": "e8dde476-3b44-46c1-b023-2665cfdd3752",
   "metadata": {},
   "source": [
    "# Objectives\n",
    "\n",
    "After completing this lab, you will be able to:\n",
    "\n",
    "- **Understand embedding techniques**: Learn how to generate and use embeddings from pre-trained models for natural language processing tasks.\n",
    "- **Use Hugging Face Transformers with PyTorch**: Apply the transformers library to load and work with advanced NLP models like BERT in PyTorch..\n",
    "- **Apply t-SNE for visualization**: Use t-SNE to visualize high-dimensional data in lower-dimensional spaces, enhancing understanding of data distribution and clustering.\n",
    "- **Fine-tuning language models**: Gain practical experience in fine-tuning pretrained language models for specific tasks, enhancing model performance on targeted datasets.\n",
    "- **Develop practical NLP solutions**: Implement a system that effectively uses Retriever and Generator architectures to answer queries, demonstrating an end-to-end workflow from model tuning to deployment.\n",
    "- **Implement cosine similarity**: Replace dot product similarity measures with cosine similarity to improve relevance detection in response generation systems.\n",
    "- **Evaluate model performance**: Assess the impact of using cosine similarity over dot product in terms of retrieval accuracy and relevance in a QA system.\n"
   ]
  },
  {
   "cell_type": "markdown",
   "id": "2ffeb9e3-a4ff-4126-90c0-b6df6c2bc9e7",
   "metadata": {},
   "source": [
    "---\n"
   ]
  },
  {
   "cell_type": "markdown",
   "id": "7891461f-2ccf-495a-94ef-40cede9cb1f4",
   "metadata": {},
   "source": [
    "# Setup\n"
   ]
  },
  {
   "cell_type": "markdown",
   "id": "ff22af3b-4fd5-4098-8bcf-a29df8351be5",
   "metadata": {},
   "source": [
    "\n"
   ]
  },
  {
   "cell_type": "markdown",
   "id": "7e8cb00a-5cfa-45f8-be27-a0258e0203a6",
   "metadata": {},
   "source": [
    "### Installing required libraries\n"
   ]
  },
  {
   "cell_type": "markdown",
   "id": "e2e9d07a-d7d2-46ce-ab3b-e43a19e25dfb",
   "metadata": {},
   "source": [
    "For this lab, you will be using the following libraries. These libraries are __not__ pre-installed in the Skills Network Labs environment. __You will need to run the following cell__ to install them:\n",
    "\n",
    "***Note : After installing please ensure that you restart the kernel and execute the subsequent cells.***\n"
   ]
  },
  {
   "cell_type": "code",
   "execution_count": 43,
   "id": "f356143a-82bb-4d59-87b3-422546c9cf15",
   "metadata": {},
   "outputs": [
    {
     "name": "stdout",
     "output_type": "stream",
     "text": [
      "Requirement already satisfied: numpy in c:\\continuous learning\\fundamentals-of-ai-agents-using-rag-and-langchain\\.conda\\lib\\site-packages (2.3.2)\n",
      "Collecting torch==2.2.0\n",
      "  Downloading torch-2.2.0-cp311-cp311-win_amd64.whl.metadata (26 kB)\n",
      "Requirement already satisfied: filelock in c:\\continuous learning\\fundamentals-of-ai-agents-using-rag-and-langchain\\.conda\\lib\\site-packages (from torch==2.2.0) (3.18.0)\n",
      "Requirement already satisfied: typing-extensions>=4.8.0 in c:\\continuous learning\\fundamentals-of-ai-agents-using-rag-and-langchain\\.conda\\lib\\site-packages (from torch==2.2.0) (4.12.2)\n",
      "Requirement already satisfied: sympy in c:\\continuous learning\\fundamentals-of-ai-agents-using-rag-and-langchain\\.conda\\lib\\site-packages (from torch==2.2.0) (1.14.0)\n",
      "Requirement already satisfied: networkx in c:\\continuous learning\\fundamentals-of-ai-agents-using-rag-and-langchain\\.conda\\lib\\site-packages (from torch==2.2.0) (3.5)\n",
      "Requirement already satisfied: jinja2 in c:\\continuous learning\\fundamentals-of-ai-agents-using-rag-and-langchain\\.conda\\lib\\site-packages (from torch==2.2.0) (3.1.6)\n",
      "Requirement already satisfied: fsspec in c:\\continuous learning\\fundamentals-of-ai-agents-using-rag-and-langchain\\.conda\\lib\\site-packages (from torch==2.2.0) (2025.3.0)\n",
      "Requirement already satisfied: MarkupSafe>=2.0 in c:\\continuous learning\\fundamentals-of-ai-agents-using-rag-and-langchain\\.conda\\lib\\site-packages (from jinja2->torch==2.2.0) (3.0.2)\n",
      "Requirement already satisfied: mpmath<1.4,>=1.1.0 in c:\\continuous learning\\fundamentals-of-ai-agents-using-rag-and-langchain\\.conda\\lib\\site-packages (from sympy->torch==2.2.0) (1.3.0)\n",
      "Downloading torch-2.2.0-cp311-cp311-win_amd64.whl (198.6 MB)\n",
      "   ---------------------------------------- 0.0/198.6 MB ? eta -:--:--\n",
      "   ---------------------------------------- 0.8/198.6 MB 11.4 MB/s eta 0:00:18\n",
      "   ---------------------------------------- 1.6/198.6 MB 4.2 MB/s eta 0:00:47\n",
      "   ---------------------------------------- 2.4/198.6 MB 4.2 MB/s eta 0:00:47\n",
      "    --------------------------------------- 3.4/198.6 MB 4.0 MB/s eta 0:00:49\n",
      "    --------------------------------------- 4.2/198.6 MB 4.1 MB/s eta 0:00:48\n",
      "   - -------------------------------------- 5.0/198.6 MB 4.0 MB/s eta 0:00:49\n",
      "   - -------------------------------------- 5.8/198.6 MB 4.0 MB/s eta 0:00:49\n",
      "   - -------------------------------------- 6.6/198.6 MB 4.0 MB/s eta 0:00:49\n",
      "   - -------------------------------------- 7.3/198.6 MB 4.0 MB/s eta 0:00:48\n",
      "   - -------------------------------------- 8.1/198.6 MB 4.0 MB/s eta 0:00:48\n",
      "   - -------------------------------------- 8.9/198.6 MB 4.0 MB/s eta 0:00:48\n",
      "   - -------------------------------------- 9.7/198.6 MB 4.0 MB/s eta 0:00:48\n",
      "   -- ------------------------------------- 10.5/198.6 MB 4.0 MB/s eta 0:00:48\n",
      "   -- ------------------------------------- 11.5/198.6 MB 4.0 MB/s eta 0:00:47\n",
      "   -- ------------------------------------- 12.3/198.6 MB 4.0 MB/s eta 0:00:47\n",
      "   -- ------------------------------------- 13.1/198.6 MB 4.0 MB/s eta 0:00:47\n",
      "   -- ------------------------------------- 13.9/198.6 MB 4.0 MB/s eta 0:00:47\n",
      "   -- ------------------------------------- 14.7/198.6 MB 4.0 MB/s eta 0:00:47\n",
      "   --- ------------------------------------ 15.2/198.6 MB 4.0 MB/s eta 0:00:47\n",
      "   --- ------------------------------------ 16.3/198.6 MB 4.0 MB/s eta 0:00:47\n",
      "   --- ------------------------------------ 17.0/198.6 MB 4.0 MB/s eta 0:00:46\n",
      "   --- ------------------------------------ 18.1/198.6 MB 4.0 MB/s eta 0:00:46\n",
      "   --- ------------------------------------ 18.9/198.6 MB 4.0 MB/s eta 0:00:46\n",
      "   --- ------------------------------------ 19.7/198.6 MB 4.0 MB/s eta 0:00:46\n",
      "   ---- ----------------------------------- 20.4/198.6 MB 4.0 MB/s eta 0:00:45\n",
      "   ---- ----------------------------------- 21.2/198.6 MB 4.0 MB/s eta 0:00:45\n",
      "   ---- ----------------------------------- 22.0/198.6 MB 4.0 MB/s eta 0:00:45\n",
      "   ---- ----------------------------------- 22.8/198.6 MB 4.0 MB/s eta 0:00:45\n",
      "   ---- ----------------------------------- 23.9/198.6 MB 4.0 MB/s eta 0:00:45\n",
      "   ---- ----------------------------------- 24.6/198.6 MB 4.0 MB/s eta 0:00:45\n",
      "   ----- ---------------------------------- 25.4/198.6 MB 3.9 MB/s eta 0:00:44\n",
      "   ----- ---------------------------------- 26.2/198.6 MB 4.0 MB/s eta 0:00:44\n",
      "   ----- ---------------------------------- 27.0/198.6 MB 4.0 MB/s eta 0:00:44\n",
      "   ----- ---------------------------------- 27.8/198.6 MB 4.0 MB/s eta 0:00:44\n",
      "   ----- ---------------------------------- 28.6/198.6 MB 3.9 MB/s eta 0:00:44\n",
      "   ----- ---------------------------------- 29.4/198.6 MB 3.9 MB/s eta 0:00:43\n",
      "   ------ --------------------------------- 30.4/198.6 MB 4.0 MB/s eta 0:00:43\n",
      "   ------ --------------------------------- 30.9/198.6 MB 3.9 MB/s eta 0:00:43\n",
      "   ------ --------------------------------- 32.0/198.6 MB 3.9 MB/s eta 0:00:43\n",
      "   ------ --------------------------------- 32.8/198.6 MB 3.9 MB/s eta 0:00:42\n",
      "   ------ --------------------------------- 33.6/198.6 MB 3.9 MB/s eta 0:00:42\n",
      "   ------ --------------------------------- 34.3/198.6 MB 4.0 MB/s eta 0:00:42\n",
      "   ------- -------------------------------- 35.1/198.6 MB 3.9 MB/s eta 0:00:42\n",
      "   ------- -------------------------------- 35.9/198.6 MB 4.0 MB/s eta 0:00:42\n",
      "   ------- -------------------------------- 36.7/198.6 MB 3.9 MB/s eta 0:00:42\n",
      "   ------- -------------------------------- 37.7/198.6 MB 4.0 MB/s eta 0:00:41\n",
      "   ------- -------------------------------- 38.5/198.6 MB 4.0 MB/s eta 0:00:41\n",
      "   ------- -------------------------------- 39.3/198.6 MB 3.9 MB/s eta 0:00:41\n",
      "   -------- ------------------------------- 40.1/198.6 MB 3.9 MB/s eta 0:00:41\n",
      "   -------- ------------------------------- 40.9/198.6 MB 3.9 MB/s eta 0:00:40\n",
      "   -------- ------------------------------- 41.7/198.6 MB 3.9 MB/s eta 0:00:40\n",
      "   -------- ------------------------------- 42.5/198.6 MB 3.9 MB/s eta 0:00:40\n",
      "   -------- ------------------------------- 43.3/198.6 MB 3.9 MB/s eta 0:00:40\n",
      "   -------- ------------------------------- 44.3/198.6 MB 3.9 MB/s eta 0:00:40\n",
      "   --------- ------------------------------ 45.1/198.6 MB 3.9 MB/s eta 0:00:39\n",
      "   --------- ------------------------------ 45.9/198.6 MB 4.0 MB/s eta 0:00:39\n",
      "   --------- ------------------------------ 46.4/198.6 MB 3.9 MB/s eta 0:00:39\n",
      "   --------- ------------------------------ 47.4/198.6 MB 3.9 MB/s eta 0:00:39\n",
      "   --------- ------------------------------ 48.2/198.6 MB 3.9 MB/s eta 0:00:39\n",
      "   --------- ------------------------------ 49.0/198.6 MB 3.9 MB/s eta 0:00:38\n",
      "   ---------- ----------------------------- 49.8/198.6 MB 3.9 MB/s eta 0:00:38\n",
      "   ---------- ----------------------------- 50.6/198.6 MB 3.9 MB/s eta 0:00:38\n",
      "   ---------- ----------------------------- 51.6/198.6 MB 3.9 MB/s eta 0:00:38\n",
      "   ---------- ----------------------------- 52.4/198.6 MB 3.9 MB/s eta 0:00:38\n",
      "   ---------- ----------------------------- 53.2/198.6 MB 3.9 MB/s eta 0:00:37\n",
      "   ---------- ----------------------------- 54.0/198.6 MB 3.9 MB/s eta 0:00:37\n",
      "   ----------- ---------------------------- 54.8/198.6 MB 3.9 MB/s eta 0:00:37\n",
      "   ----------- ---------------------------- 55.6/198.6 MB 3.9 MB/s eta 0:00:37\n",
      "   ----------- ---------------------------- 56.4/198.6 MB 3.9 MB/s eta 0:00:37\n",
      "   ----------- ---------------------------- 57.1/198.6 MB 3.9 MB/s eta 0:00:36\n",
      "   ----------- ---------------------------- 58.2/198.6 MB 3.9 MB/s eta 0:00:36\n",
      "   ----------- ---------------------------- 59.0/198.6 MB 3.9 MB/s eta 0:00:36\n",
      "   ------------ --------------------------- 59.8/198.6 MB 3.9 MB/s eta 0:00:36\n",
      "   ------------ --------------------------- 60.6/198.6 MB 3.9 MB/s eta 0:00:35\n",
      "   ------------ --------------------------- 61.3/198.6 MB 3.9 MB/s eta 0:00:35\n",
      "   ------------ --------------------------- 61.9/198.6 MB 3.9 MB/s eta 0:00:35\n",
      "   ------------ --------------------------- 61.9/198.6 MB 3.9 MB/s eta 0:00:35\n",
      "   ------------ --------------------------- 62.4/198.6 MB 3.9 MB/s eta 0:00:36\n",
      "   ------------ --------------------------- 63.2/198.6 MB 3.9 MB/s eta 0:00:36\n",
      "   ------------ --------------------------- 64.2/198.6 MB 3.9 MB/s eta 0:00:35\n",
      "   ------------- -------------------------- 65.0/198.6 MB 3.9 MB/s eta 0:00:35\n",
      "   ------------- -------------------------- 65.8/198.6 MB 3.9 MB/s eta 0:00:35\n",
      "   ------------- -------------------------- 66.6/198.6 MB 3.9 MB/s eta 0:00:35\n",
      "   ------------- -------------------------- 67.4/198.6 MB 3.9 MB/s eta 0:00:34\n",
      "   ------------- -------------------------- 68.2/198.6 MB 3.9 MB/s eta 0:00:34\n",
      "   ------------- -------------------------- 68.9/198.6 MB 3.9 MB/s eta 0:00:34\n",
      "   -------------- ------------------------- 70.0/198.6 MB 3.9 MB/s eta 0:00:34\n",
      "   -------------- ------------------------- 70.8/198.6 MB 3.9 MB/s eta 0:00:33\n",
      "   -------------- ------------------------- 71.6/198.6 MB 3.9 MB/s eta 0:00:33\n",
      "   -------------- ------------------------- 72.4/198.6 MB 3.9 MB/s eta 0:00:33\n",
      "   -------------- ------------------------- 73.1/198.6 MB 3.9 MB/s eta 0:00:33\n",
      "   -------------- ------------------------- 73.9/198.6 MB 3.9 MB/s eta 0:00:33\n",
      "   --------------- ------------------------ 74.7/198.6 MB 3.9 MB/s eta 0:00:32\n",
      "   --------------- ------------------------ 75.5/198.6 MB 3.9 MB/s eta 0:00:32\n",
      "   --------------- ------------------------ 76.3/198.6 MB 3.9 MB/s eta 0:00:32\n",
      "   --------------- ------------------------ 77.1/198.6 MB 3.9 MB/s eta 0:00:32\n",
      "   --------------- ------------------------ 78.1/198.6 MB 3.9 MB/s eta 0:00:32\n",
      "   --------------- ------------------------ 78.9/198.6 MB 3.9 MB/s eta 0:00:31\n",
      "   ---------------- ----------------------- 79.7/198.6 MB 3.9 MB/s eta 0:00:31\n",
      "   ---------------- ----------------------- 80.5/198.6 MB 3.9 MB/s eta 0:00:31\n",
      "   ---------------- ----------------------- 81.3/198.6 MB 3.9 MB/s eta 0:00:31\n",
      "   ---------------- ----------------------- 82.1/198.6 MB 3.9 MB/s eta 0:00:31\n",
      "   ---------------- ----------------------- 82.8/198.6 MB 3.9 MB/s eta 0:00:30\n",
      "   ---------------- ----------------------- 83.9/198.6 MB 3.9 MB/s eta 0:00:30\n",
      "   ----------------- ---------------------- 84.7/198.6 MB 3.9 MB/s eta 0:00:30\n",
      "   ----------------- ---------------------- 85.5/198.6 MB 3.9 MB/s eta 0:00:30\n",
      "   ----------------- ---------------------- 86.2/198.6 MB 3.9 MB/s eta 0:00:29\n",
      "   ----------------- ---------------------- 87.0/198.6 MB 3.9 MB/s eta 0:00:29\n",
      "   ----------------- ---------------------- 87.8/198.6 MB 3.9 MB/s eta 0:00:29\n",
      "   ----------------- ---------------------- 88.6/198.6 MB 3.9 MB/s eta 0:00:29\n",
      "   ------------------ --------------------- 89.7/198.6 MB 3.9 MB/s eta 0:00:29\n",
      "   ------------------ --------------------- 90.4/198.6 MB 3.9 MB/s eta 0:00:28\n",
      "   ------------------ --------------------- 91.2/198.6 MB 3.9 MB/s eta 0:00:28\n",
      "   ------------------ --------------------- 92.0/198.6 MB 3.9 MB/s eta 0:00:28\n",
      "   ------------------ --------------------- 92.8/198.6 MB 3.9 MB/s eta 0:00:28\n",
      "   ------------------ --------------------- 93.6/198.6 MB 3.9 MB/s eta 0:00:27\n",
      "   ------------------- -------------------- 94.4/198.6 MB 3.9 MB/s eta 0:00:27\n",
      "   ------------------- -------------------- 95.4/198.6 MB 3.9 MB/s eta 0:00:27\n",
      "   ------------------- -------------------- 96.2/198.6 MB 3.9 MB/s eta 0:00:27\n",
      "   ------------------- -------------------- 97.0/198.6 MB 3.9 MB/s eta 0:00:27\n",
      "   ------------------- -------------------- 97.8/198.6 MB 3.9 MB/s eta 0:00:26\n",
      "   ------------------- -------------------- 98.6/198.6 MB 3.9 MB/s eta 0:00:26\n",
      "   -------------------- ------------------- 99.4/198.6 MB 3.9 MB/s eta 0:00:26\n",
      "   -------------------- ------------------- 99.9/198.6 MB 3.9 MB/s eta 0:00:26\n",
      "   -------------------- ------------------- 101.2/198.6 MB 3.9 MB/s eta 0:00:26\n",
      "   -------------------- ------------------- 102.0/198.6 MB 3.9 MB/s eta 0:00:25\n",
      "   -------------------- ------------------- 102.8/198.6 MB 3.9 MB/s eta 0:00:25\n",
      "   -------------------- ------------------- 103.5/198.6 MB 3.9 MB/s eta 0:00:25\n",
      "   --------------------- ------------------ 104.3/198.6 MB 3.9 MB/s eta 0:00:25\n",
      "   --------------------- ------------------ 105.1/198.6 MB 3.9 MB/s eta 0:00:24\n",
      "   --------------------- ------------------ 105.9/198.6 MB 3.9 MB/s eta 0:00:24\n",
      "   --------------------- ------------------ 107.0/198.6 MB 3.9 MB/s eta 0:00:24\n",
      "   --------------------- ------------------ 107.7/198.6 MB 3.9 MB/s eta 0:00:24\n",
      "   --------------------- ------------------ 108.5/198.6 MB 3.9 MB/s eta 0:00:24\n",
      "   ---------------------- ----------------- 109.3/198.6 MB 3.9 MB/s eta 0:00:23\n",
      "   ---------------------- ----------------- 110.1/198.6 MB 3.9 MB/s eta 0:00:23\n",
      "   ---------------------- ----------------- 110.9/198.6 MB 3.9 MB/s eta 0:00:23\n",
      "   ---------------------- ----------------- 111.7/198.6 MB 3.9 MB/s eta 0:00:23\n",
      "   ---------------------- ----------------- 112.5/198.6 MB 3.9 MB/s eta 0:00:23\n",
      "   ---------------------- ----------------- 113.2/198.6 MB 3.9 MB/s eta 0:00:22\n",
      "   ---------------------- ----------------- 114.0/198.6 MB 3.9 MB/s eta 0:00:22\n",
      "   ----------------------- ---------------- 115.1/198.6 MB 3.9 MB/s eta 0:00:22\n",
      "   ----------------------- ---------------- 115.9/198.6 MB 3.9 MB/s eta 0:00:22\n",
      "   ----------------------- ---------------- 116.7/198.6 MB 3.9 MB/s eta 0:00:22\n",
      "   ----------------------- ---------------- 117.4/198.6 MB 3.9 MB/s eta 0:00:21\n",
      "   ----------------------- ---------------- 118.2/198.6 MB 3.9 MB/s eta 0:00:21\n",
      "   ----------------------- ---------------- 119.0/198.6 MB 3.9 MB/s eta 0:00:21\n",
      "   ------------------------ --------------- 119.8/198.6 MB 3.9 MB/s eta 0:00:21\n",
      "   ------------------------ --------------- 120.8/198.6 MB 3.9 MB/s eta 0:00:20\n",
      "   ------------------------ --------------- 121.6/198.6 MB 3.9 MB/s eta 0:00:20\n",
      "   ------------------------ --------------- 122.4/198.6 MB 3.9 MB/s eta 0:00:20\n",
      "   ------------------------ --------------- 122.9/198.6 MB 3.9 MB/s eta 0:00:20\n",
      "   ------------------------ --------------- 124.0/198.6 MB 3.9 MB/s eta 0:00:20\n",
      "   ------------------------- -------------- 124.8/198.6 MB 3.9 MB/s eta 0:00:19\n",
      "   ------------------------- -------------- 125.6/198.6 MB 3.9 MB/s eta 0:00:19\n",
      "   ------------------------- -------------- 126.4/198.6 MB 3.9 MB/s eta 0:00:19\n",
      "   ------------------------- -------------- 127.1/198.6 MB 3.9 MB/s eta 0:00:19\n",
      "   ------------------------- -------------- 128.2/198.6 MB 3.9 MB/s eta 0:00:19\n",
      "   ------------------------- -------------- 129.0/198.6 MB 3.9 MB/s eta 0:00:18\n",
      "   -------------------------- ------------- 129.8/198.6 MB 3.9 MB/s eta 0:00:18\n",
      "   -------------------------- ------------- 130.5/198.6 MB 3.9 MB/s eta 0:00:18\n",
      "   -------------------------- ------------- 131.3/198.6 MB 3.9 MB/s eta 0:00:18\n",
      "   -------------------------- ------------- 132.1/198.6 MB 3.9 MB/s eta 0:00:18\n",
      "   -------------------------- ------------- 132.6/198.6 MB 3.9 MB/s eta 0:00:17\n",
      "   -------------------------- ------------- 133.7/198.6 MB 3.9 MB/s eta 0:00:17\n",
      "   --------------------------- ------------ 134.5/198.6 MB 3.9 MB/s eta 0:00:17\n",
      "   --------------------------- ------------ 135.5/198.6 MB 3.9 MB/s eta 0:00:17\n",
      "   --------------------------- ------------ 136.3/198.6 MB 3.9 MB/s eta 0:00:16\n",
      "   --------------------------- ------------ 137.1/198.6 MB 3.9 MB/s eta 0:00:16\n",
      "   --------------------------- ------------ 137.9/198.6 MB 3.9 MB/s eta 0:00:16\n",
      "   --------------------------- ------------ 138.7/198.6 MB 3.9 MB/s eta 0:00:16\n",
      "   ---------------------------- ----------- 139.5/198.6 MB 3.9 MB/s eta 0:00:16\n",
      "   ---------------------------- ----------- 140.2/198.6 MB 3.9 MB/s eta 0:00:15\n",
      "   ---------------------------- ----------- 141.0/198.6 MB 3.9 MB/s eta 0:00:15\n",
      "   ---------------------------- ----------- 141.8/198.6 MB 3.9 MB/s eta 0:00:15\n",
      "   ---------------------------- ----------- 142.9/198.6 MB 3.9 MB/s eta 0:00:15\n",
      "   ---------------------------- ----------- 143.7/198.6 MB 3.9 MB/s eta 0:00:15\n",
      "   ----------------------------- ---------- 144.4/198.6 MB 3.9 MB/s eta 0:00:14\n",
      "   ----------------------------- ---------- 145.2/198.6 MB 3.9 MB/s eta 0:00:14\n",
      "   ----------------------------- ---------- 146.0/198.6 MB 3.9 MB/s eta 0:00:14\n",
      "   ----------------------------- ---------- 146.8/198.6 MB 3.9 MB/s eta 0:00:14\n",
      "   ----------------------------- ---------- 147.6/198.6 MB 3.9 MB/s eta 0:00:14\n",
      "   ----------------------------- ---------- 148.4/198.6 MB 3.9 MB/s eta 0:00:13\n",
      "   ------------------------------ --------- 149.2/198.6 MB 3.9 MB/s eta 0:00:13\n",
      "   ------------------------------ --------- 149.9/198.6 MB 3.9 MB/s eta 0:00:13\n",
      "   ------------------------------ --------- 150.7/198.6 MB 3.9 MB/s eta 0:00:13\n",
      "   ------------------------------ --------- 151.8/198.6 MB 3.9 MB/s eta 0:00:13\n",
      "   ------------------------------ --------- 152.6/198.6 MB 3.9 MB/s eta 0:00:12\n",
      "   ------------------------------ --------- 153.4/198.6 MB 3.9 MB/s eta 0:00:12\n",
      "   ------------------------------- -------- 154.1/198.6 MB 3.9 MB/s eta 0:00:12\n",
      "   ------------------------------- -------- 154.9/198.6 MB 3.9 MB/s eta 0:00:12\n",
      "   ------------------------------- -------- 155.7/198.6 MB 3.9 MB/s eta 0:00:11\n",
      "   ------------------------------- -------- 156.5/198.6 MB 3.9 MB/s eta 0:00:11\n",
      "   ------------------------------- -------- 157.5/198.6 MB 3.9 MB/s eta 0:00:11\n",
      "   ------------------------------- -------- 158.1/198.6 MB 3.9 MB/s eta 0:00:11\n",
      "   -------------------------------- ------- 159.1/198.6 MB 3.9 MB/s eta 0:00:11\n",
      "   -------------------------------- ------- 159.9/198.6 MB 3.9 MB/s eta 0:00:10\n",
      "   -------------------------------- ------- 160.7/198.6 MB 3.9 MB/s eta 0:00:10\n",
      "   -------------------------------- ------- 161.5/198.6 MB 3.9 MB/s eta 0:00:10\n",
      "   -------------------------------- ------- 162.3/198.6 MB 3.9 MB/s eta 0:00:10\n",
      "   -------------------------------- ------- 163.1/198.6 MB 3.9 MB/s eta 0:00:10\n",
      "   --------------------------------- ------ 163.8/198.6 MB 3.9 MB/s eta 0:00:09\n",
      "   --------------------------------- ------ 164.9/198.6 MB 3.9 MB/s eta 0:00:09\n",
      "   --------------------------------- ------ 165.7/198.6 MB 3.9 MB/s eta 0:00:09\n",
      "   --------------------------------- ------ 166.5/198.6 MB 3.9 MB/s eta 0:00:09\n",
      "   --------------------------------- ------ 167.2/198.6 MB 3.9 MB/s eta 0:00:09\n",
      "   --------------------------------- ------ 168.0/198.6 MB 3.9 MB/s eta 0:00:08\n",
      "   ---------------------------------- ----- 168.8/198.6 MB 3.9 MB/s eta 0:00:08\n",
      "   ---------------------------------- ----- 169.9/198.6 MB 3.9 MB/s eta 0:00:08\n",
      "   ---------------------------------- ----- 170.7/198.6 MB 3.9 MB/s eta 0:00:08\n",
      "   ---------------------------------- ----- 171.4/198.6 MB 3.9 MB/s eta 0:00:07\n",
      "   ---------------------------------- ----- 172.2/198.6 MB 3.9 MB/s eta 0:00:07\n",
      "   ---------------------------------- ----- 173.0/198.6 MB 3.9 MB/s eta 0:00:07\n",
      "   ----------------------------------- ---- 173.8/198.6 MB 3.9 MB/s eta 0:00:07\n",
      "   ----------------------------------- ---- 174.6/198.6 MB 3.9 MB/s eta 0:00:07\n",
      "   ----------------------------------- ---- 175.6/198.6 MB 3.9 MB/s eta 0:00:06\n",
      "   ----------------------------------- ---- 176.4/198.6 MB 3.9 MB/s eta 0:00:06\n",
      "   ----------------------------------- ---- 177.2/198.6 MB 3.9 MB/s eta 0:00:06\n",
      "   ----------------------------------- ---- 177.7/198.6 MB 3.9 MB/s eta 0:00:06\n",
      "   ------------------------------------ --- 178.8/198.6 MB 3.9 MB/s eta 0:00:06\n",
      "   ------------------------------------ --- 179.6/198.6 MB 3.9 MB/s eta 0:00:05\n",
      "   ------------------------------------ --- 180.4/198.6 MB 3.9 MB/s eta 0:00:05\n",
      "   ------------------------------------ --- 181.1/198.6 MB 3.9 MB/s eta 0:00:05\n",
      "   ------------------------------------ --- 181.9/198.6 MB 3.9 MB/s eta 0:00:05\n",
      "   ------------------------------------ --- 183.0/198.6 MB 3.9 MB/s eta 0:00:04\n",
      "   ------------------------------------- -- 183.8/198.6 MB 3.9 MB/s eta 0:00:04\n",
      "   ------------------------------------- -- 184.5/198.6 MB 3.9 MB/s eta 0:00:04\n",
      "   ------------------------------------- -- 185.3/198.6 MB 3.9 MB/s eta 0:00:04\n",
      "   ------------------------------------- -- 186.1/198.6 MB 3.9 MB/s eta 0:00:04\n",
      "   ------------------------------------- -- 186.9/198.6 MB 4.0 MB/s eta 0:00:03\n",
      "   ------------------------------------- -- 187.7/198.6 MB 3.9 MB/s eta 0:00:03\n",
      "   -------------------------------------- - 188.7/198.6 MB 3.9 MB/s eta 0:00:03\n",
      "   -------------------------------------- - 189.5/198.6 MB 3.9 MB/s eta 0:00:03\n",
      "   -------------------------------------- - 190.3/198.6 MB 3.9 MB/s eta 0:00:03\n",
      "   -------------------------------------- - 191.1/198.6 MB 3.9 MB/s eta 0:00:02\n",
      "   -------------------------------------- - 191.9/198.6 MB 3.9 MB/s eta 0:00:02\n",
      "   -------------------------------------- - 192.7/198.6 MB 3.9 MB/s eta 0:00:02\n",
      "   -------------------------------------- - 193.5/198.6 MB 3.9 MB/s eta 0:00:02\n",
      "   ---------------------------------------  194.2/198.6 MB 3.9 MB/s eta 0:00:02\n",
      "   ---------------------------------------  195.3/198.6 MB 3.9 MB/s eta 0:00:01\n",
      "   ---------------------------------------  196.1/198.6 MB 3.9 MB/s eta 0:00:01\n",
      "   ---------------------------------------  196.9/198.6 MB 3.9 MB/s eta 0:00:01\n",
      "   ---------------------------------------  197.7/198.6 MB 3.9 MB/s eta 0:00:01\n",
      "   ---------------------------------------  198.4/198.6 MB 3.9 MB/s eta 0:00:01\n",
      "   ---------------------------------------  198.4/198.6 MB 3.9 MB/s eta 0:00:01\n",
      "   ---------------------------------------  198.4/198.6 MB 3.9 MB/s eta 0:00:01\n",
      "   ---------------------------------------  198.4/198.6 MB 3.9 MB/s eta 0:00:01\n",
      "   ---------------------------------------  198.4/198.6 MB 3.9 MB/s eta 0:00:01\n",
      "   ---------------------------------------- 198.6/198.6 MB 3.8 MB/s eta 0:00:00\n",
      "Installing collected packages: torch\n",
      "Successfully installed torch-2.2.0\n"
     ]
    },
    {
     "name": "stderr",
     "output_type": "stream",
     "text": [
      "  WARNING: The scripts convert-caffe2-to-onnx.exe, convert-onnx-to-caffe2.exe and torchrun.exe are installed in 'C:\\Users\\bnaren3\\AppData\\Roaming\\Python\\Python311\\Scripts' which is not on PATH.\n",
      "  Consider adding this directory to PATH or, if you prefer to suppress this warning, use --no-warn-script-location.\n"
     ]
    },
    {
     "name": "stdout",
     "output_type": "stream",
     "text": [
      "Collecting sacremoses==0.1.1\n",
      "  Using cached sacremoses-0.1.1-py3-none-any.whl.metadata (8.3 kB)\n",
      "Requirement already satisfied: regex in c:\\continuous learning\\fundamentals-of-ai-agents-using-rag-and-langchain\\.conda\\lib\\site-packages (from sacremoses==0.1.1) (2025.7.34)\n",
      "Collecting click (from sacremoses==0.1.1)\n",
      "  Using cached click-8.2.1-py3-none-any.whl.metadata (2.5 kB)\n",
      "Requirement already satisfied: joblib in c:\\continuous learning\\fundamentals-of-ai-agents-using-rag-and-langchain\\.conda\\lib\\site-packages (from sacremoses==0.1.1) (1.5.1)\n",
      "Requirement already satisfied: tqdm in c:\\continuous learning\\fundamentals-of-ai-agents-using-rag-and-langchain\\.conda\\lib\\site-packages (from sacremoses==0.1.1) (4.67.1)\n",
      "Requirement already satisfied: colorama in c:\\continuous learning\\fundamentals-of-ai-agents-using-rag-and-langchain\\.conda\\lib\\site-packages (from click->sacremoses==0.1.1) (0.4.6)\n",
      "Using cached sacremoses-0.1.1-py3-none-any.whl (897 kB)\n",
      "Using cached click-8.2.1-py3-none-any.whl (102 kB)\n",
      "Installing collected packages: click, sacremoses\n",
      "\n",
      "   -------------------- ------------------- 1/2 [sacremoses]\n",
      "   ---------------------------------------- 2/2 [sacremoses]\n",
      "\n",
      "Successfully installed click-8.2.1 sacremoses-0.1.1\n"
     ]
    },
    {
     "name": "stderr",
     "output_type": "stream",
     "text": [
      "  WARNING: The script sacremoses.exe is installed in 'C:\\Users\\bnaren3\\AppData\\Roaming\\Python\\Python311\\Scripts' which is not on PATH.\n",
      "  Consider adding this directory to PATH or, if you prefer to suppress this warning, use --no-warn-script-location.\n"
     ]
    },
    {
     "name": "stdout",
     "output_type": "stream",
     "text": [
      "Collecting torchtext\n",
      "  Using cached torchtext-0.18.0-cp311-cp311-win_amd64.whl.metadata (7.9 kB)\n",
      "Requirement already satisfied: tqdm in c:\\continuous learning\\fundamentals-of-ai-agents-using-rag-and-langchain\\.conda\\lib\\site-packages (from torchtext) (4.67.1)\n",
      "Requirement already satisfied: requests in c:\\continuous learning\\fundamentals-of-ai-agents-using-rag-and-langchain\\.conda\\lib\\site-packages (from torchtext) (2.32.4)\n",
      "Collecting torch>=2.3.0 (from torchtext)\n",
      "  Using cached torch-2.7.1-cp311-cp311-win_amd64.whl.metadata (28 kB)\n",
      "Requirement already satisfied: numpy in c:\\continuous learning\\fundamentals-of-ai-agents-using-rag-and-langchain\\.conda\\lib\\site-packages (from torchtext) (2.3.2)\n",
      "Requirement already satisfied: filelock in c:\\continuous learning\\fundamentals-of-ai-agents-using-rag-and-langchain\\.conda\\lib\\site-packages (from torch>=2.3.0->torchtext) (3.18.0)\n",
      "Requirement already satisfied: typing-extensions>=4.10.0 in c:\\continuous learning\\fundamentals-of-ai-agents-using-rag-and-langchain\\.conda\\lib\\site-packages (from torch>=2.3.0->torchtext) (4.12.2)\n",
      "Requirement already satisfied: sympy>=1.13.3 in c:\\continuous learning\\fundamentals-of-ai-agents-using-rag-and-langchain\\.conda\\lib\\site-packages (from torch>=2.3.0->torchtext) (1.14.0)\n",
      "Requirement already satisfied: networkx in c:\\continuous learning\\fundamentals-of-ai-agents-using-rag-and-langchain\\.conda\\lib\\site-packages (from torch>=2.3.0->torchtext) (3.5)\n",
      "Requirement already satisfied: jinja2 in c:\\continuous learning\\fundamentals-of-ai-agents-using-rag-and-langchain\\.conda\\lib\\site-packages (from torch>=2.3.0->torchtext) (3.1.6)\n",
      "Requirement already satisfied: fsspec in c:\\continuous learning\\fundamentals-of-ai-agents-using-rag-and-langchain\\.conda\\lib\\site-packages (from torch>=2.3.0->torchtext) (2025.3.0)\n",
      "Requirement already satisfied: mpmath<1.4,>=1.1.0 in c:\\continuous learning\\fundamentals-of-ai-agents-using-rag-and-langchain\\.conda\\lib\\site-packages (from sympy>=1.13.3->torch>=2.3.0->torchtext) (1.3.0)\n",
      "Requirement already satisfied: MarkupSafe>=2.0 in c:\\continuous learning\\fundamentals-of-ai-agents-using-rag-and-langchain\\.conda\\lib\\site-packages (from jinja2->torch>=2.3.0->torchtext) (3.0.2)\n",
      "Requirement already satisfied: charset_normalizer<4,>=2 in c:\\continuous learning\\fundamentals-of-ai-agents-using-rag-and-langchain\\.conda\\lib\\site-packages (from requests->torchtext) (3.4.2)\n",
      "Requirement already satisfied: idna<4,>=2.5 in c:\\continuous learning\\fundamentals-of-ai-agents-using-rag-and-langchain\\.conda\\lib\\site-packages (from requests->torchtext) (3.10)\n",
      "Requirement already satisfied: urllib3<3,>=1.21.1 in c:\\continuous learning\\fundamentals-of-ai-agents-using-rag-and-langchain\\.conda\\lib\\site-packages (from requests->torchtext) (2.5.0)\n",
      "Requirement already satisfied: certifi>=2017.4.17 in c:\\continuous learning\\fundamentals-of-ai-agents-using-rag-and-langchain\\.conda\\lib\\site-packages (from requests->torchtext) (2025.7.14)\n",
      "Requirement already satisfied: colorama in c:\\continuous learning\\fundamentals-of-ai-agents-using-rag-and-langchain\\.conda\\lib\\site-packages (from tqdm->torchtext) (0.4.6)\n",
      "Using cached torchtext-0.18.0-cp311-cp311-win_amd64.whl (1.9 MB)\n",
      "Using cached torch-2.7.1-cp311-cp311-win_amd64.whl (216.1 MB)\n",
      "Installing collected packages: torch, torchtext\n",
      "\n",
      "  Attempting uninstall: torch\n",
      "\n",
      "    Found existing installation: torch 2.2.0\n",
      "\n",
      "   ---------------------------------------- 0/2 [torch]\n",
      "   ---------------------------------------- 0/2 [torch]\n",
      "   ---------------------------------------- 0/2 [torch]\n",
      "   ---------------------------------------- 0/2 [torch]\n",
      "    Uninstalling torch-2.2.0:\n",
      "   ---------------------------------------- 0/2 [torch]\n",
      "   ---------------------------------------- 0/2 [torch]\n",
      "   ---------------------------------------- 0/2 [torch]\n",
      "      Successfully uninstalled torch-2.2.0\n",
      "   ---------------------------------------- 0/2 [torch]\n",
      "   ---------------------------------------- 0/2 [torch]\n",
      "   ---------------------------------------- 0/2 [torch]\n",
      "   ---------------------------------------- 0/2 [torch]\n",
      "   ---------------------------------------- 0/2 [torch]\n",
      "   ---------------------------------------- 0/2 [torch]\n",
      "   ---------------------------------------- 0/2 [torch]\n",
      "   ---------------------------------------- 0/2 [torch]\n",
      "   ---------------------------------------- 0/2 [torch]\n",
      "   ---------------------------------------- 0/2 [torch]\n",
      "   ---------------------------------------- 0/2 [torch]\n",
      "   ---------------------------------------- 0/2 [torch]\n",
      "   ---------------------------------------- 0/2 [torch]\n",
      "   ---------------------------------------- 0/2 [torch]\n",
      "   ---------------------------------------- 0/2 [torch]\n",
      "   ---------------------------------------- 0/2 [torch]\n",
      "   ---------------------------------------- 0/2 [torch]\n",
      "   ---------------------------------------- 0/2 [torch]\n",
      "   ---------------------------------------- 0/2 [torch]\n",
      "   ---------------------------------------- 0/2 [torch]\n",
      "   ---------------------------------------- 0/2 [torch]\n",
      "   ---------------------------------------- 0/2 [torch]\n",
      "   ---------------------------------------- 0/2 [torch]\n",
      "   ---------------------------------------- 0/2 [torch]\n",
      "   ---------------------------------------- 0/2 [torch]\n",
      "   ---------------------------------------- 0/2 [torch]\n",
      "   ---------------------------------------- 0/2 [torch]\n",
      "   ---------------------------------------- 0/2 [torch]\n",
      "   ---------------------------------------- 0/2 [torch]\n",
      "   ---------------------------------------- 0/2 [torch]\n",
      "   ---------------------------------------- 0/2 [torch]\n",
      "   ---------------------------------------- 0/2 [torch]\n",
      "   ---------------------------------------- 0/2 [torch]\n",
      "   ---------------------------------------- 0/2 [torch]\n",
      "   ---------------------------------------- 0/2 [torch]\n",
      "   ---------------------------------------- 0/2 [torch]\n",
      "   ---------------------------------------- 0/2 [torch]\n",
      "   ---------------------------------------- 0/2 [torch]\n",
      "   ---------------------------------------- 0/2 [torch]\n",
      "   ---------------------------------------- 0/2 [torch]\n",
      "   ---------------------------------------- 0/2 [torch]\n",
      "   ---------------------------------------- 0/2 [torch]\n",
      "   ---------------------------------------- 0/2 [torch]\n",
      "   ---------------------------------------- 0/2 [torch]\n",
      "   ---------------------------------------- 0/2 [torch]\n",
      "   ---------------------------------------- 0/2 [torch]\n",
      "   ---------------------------------------- 0/2 [torch]\n",
      "   ---------------------------------------- 0/2 [torch]\n",
      "   ---------------------------------------- 0/2 [torch]\n",
      "   ---------------------------------------- 0/2 [torch]\n",
      "   ---------------------------------------- 0/2 [torch]\n",
      "   ---------------------------------------- 0/2 [torch]\n",
      "   ---------------------------------------- 0/2 [torch]\n",
      "   ---------------------------------------- 0/2 [torch]\n",
      "   ---------------------------------------- 0/2 [torch]\n",
      "   ---------------------------------------- 0/2 [torch]\n",
      "   ---------------------------------------- 0/2 [torch]\n",
      "   ---------------------------------------- 0/2 [torch]\n",
      "   ---------------------------------------- 0/2 [torch]\n",
      "   ---------------------------------------- 0/2 [torch]\n",
      "   ---------------------------------------- 0/2 [torch]\n",
      "   ---------------------------------------- 0/2 [torch]\n",
      "   ---------------------------------------- 0/2 [torch]\n",
      "   ---------------------------------------- 0/2 [torch]\n",
      "   ---------------------------------------- 0/2 [torch]\n",
      "   ---------------------------------------- 0/2 [torch]\n",
      "   ---------------------------------------- 0/2 [torch]\n",
      "   ---------------------------------------- 0/2 [torch]\n",
      "   ---------------------------------------- 0/2 [torch]\n",
      "   ---------------------------------------- 0/2 [torch]\n",
      "   ---------------------------------------- 0/2 [torch]\n",
      "   ---------------------------------------- 0/2 [torch]\n",
      "   ---------------------------------------- 0/2 [torch]\n",
      "   ---------------------------------------- 0/2 [torch]\n",
      "   ---------------------------------------- 0/2 [torch]\n",
      "   ---------------------------------------- 0/2 [torch]\n",
      "   ---------------------------------------- 0/2 [torch]\n",
      "   ---------------------------------------- 0/2 [torch]\n",
      "   ---------------------------------------- 0/2 [torch]\n",
      "   ---------------------------------------- 0/2 [torch]\n",
      "   ---------------------------------------- 0/2 [torch]\n",
      "   ---------------------------------------- 0/2 [torch]\n",
      "   ---------------------------------------- 0/2 [torch]\n",
      "   ---------------------------------------- 0/2 [torch]\n",
      "   ---------------------------------------- 0/2 [torch]\n",
      "   ---------------------------------------- 0/2 [torch]\n",
      "   ---------------------------------------- 0/2 [torch]\n",
      "   ---------------------------------------- 0/2 [torch]\n",
      "   ---------------------------------------- 0/2 [torch]\n",
      "   ---------------------------------------- 0/2 [torch]\n",
      "   ---------------------------------------- 0/2 [torch]\n",
      "   ---------------------------------------- 0/2 [torch]\n",
      "   ---------------------------------------- 0/2 [torch]\n",
      "   ---------------------------------------- 0/2 [torch]\n",
      "   ---------------------------------------- 0/2 [torch]\n",
      "   ---------------------------------------- 0/2 [torch]\n",
      "   ---------------------------------------- 0/2 [torch]\n",
      "   ---------------------------------------- 0/2 [torch]\n",
      "   ---------------------------------------- 0/2 [torch]\n",
      "   ---------------------------------------- 0/2 [torch]\n",
      "   ---------------------------------------- 0/2 [torch]\n",
      "   ---------------------------------------- 0/2 [torch]\n",
      "   ---------------------------------------- 0/2 [torch]\n",
      "   ---------------------------------------- 0/2 [torch]\n",
      "   ---------------------------------------- 0/2 [torch]\n",
      "   ---------------------------------------- 0/2 [torch]\n",
      "   ---------------------------------------- 0/2 [torch]\n",
      "   ---------------------------------------- 0/2 [torch]\n",
      "   ---------------------------------------- 0/2 [torch]\n",
      "   ---------------------------------------- 0/2 [torch]\n",
      "   ---------------------------------------- 0/2 [torch]\n",
      "   ---------------------------------------- 0/2 [torch]\n",
      "   ---------------------------------------- 0/2 [torch]\n",
      "   ---------------------------------------- 0/2 [torch]\n",
      "   ---------------------------------------- 0/2 [torch]\n",
      "   ---------------------------------------- 0/2 [torch]\n",
      "   ---------------------------------------- 0/2 [torch]\n",
      "   ---------------------------------------- 0/2 [torch]\n",
      "   ---------------------------------------- 0/2 [torch]\n",
      "   ---------------------------------------- 0/2 [torch]\n",
      "   ---------------------------------------- 0/2 [torch]\n",
      "   ---------------------------------------- 0/2 [torch]\n",
      "   ---------------------------------------- 0/2 [torch]\n",
      "   ---------------------------------------- 0/2 [torch]\n",
      "   ---------------------------------------- 0/2 [torch]\n",
      "   ---------------------------------------- 0/2 [torch]\n",
      "   ---------------------------------------- 0/2 [torch]\n",
      "   ---------------------------------------- 0/2 [torch]\n",
      "   ---------------------------------------- 0/2 [torch]\n",
      "   ---------------------------------------- 0/2 [torch]\n",
      "   ---------------------------------------- 0/2 [torch]\n",
      "   ---------------------------------------- 0/2 [torch]\n",
      "   ---------------------------------------- 0/2 [torch]\n",
      "   ---------------------------------------- 0/2 [torch]\n",
      "   ---------------------------------------- 0/2 [torch]\n",
      "   ---------------------------------------- 0/2 [torch]\n",
      "   ---------------------------------------- 0/2 [torch]\n",
      "   ---------------------------------------- 0/2 [torch]\n",
      "   ---------------------------------------- 0/2 [torch]\n",
      "   ---------------------------------------- 0/2 [torch]\n",
      "   ---------------------------------------- 0/2 [torch]\n",
      "   ---------------------------------------- 0/2 [torch]\n",
      "   ---------------------------------------- 0/2 [torch]\n",
      "   ---------------------------------------- 0/2 [torch]\n",
      "   ---------------------------------------- 0/2 [torch]\n",
      "   ---------------------------------------- 0/2 [torch]\n",
      "   ---------------------------------------- 0/2 [torch]\n",
      "   ---------------------------------------- 0/2 [torch]\n",
      "   ---------------------------------------- 0/2 [torch]\n",
      "   ---------------------------------------- 0/2 [torch]\n",
      "   ---------------------------------------- 0/2 [torch]\n",
      "   ---------------------------------------- 0/2 [torch]\n",
      "   ---------------------------------------- 0/2 [torch]\n",
      "   ---------------------------------------- 0/2 [torch]\n",
      "   ---------------------------------------- 0/2 [torch]\n",
      "   ---------------------------------------- 0/2 [torch]\n",
      "   ---------------------------------------- 0/2 [torch]\n",
      "   ---------------------------------------- 0/2 [torch]\n",
      "   ---------------------------------------- 0/2 [torch]\n",
      "   ---------------------------------------- 0/2 [torch]\n",
      "   ---------------------------------------- 0/2 [torch]\n",
      "   ---------------------------------------- 0/2 [torch]\n",
      "   ---------------------------------------- 0/2 [torch]\n",
      "   ---------------------------------------- 0/2 [torch]\n",
      "   ---------------------------------------- 0/2 [torch]\n",
      "   ---------------------------------------- 0/2 [torch]\n",
      "   ---------------------------------------- 0/2 [torch]\n",
      "   ---------------------------------------- 0/2 [torch]\n",
      "   ---------------------------------------- 0/2 [torch]\n",
      "   ---------------------------------------- 0/2 [torch]\n",
      "   ---------------------------------------- 0/2 [torch]\n",
      "   ---------------------------------------- 0/2 [torch]\n",
      "   ---------------------------------------- 0/2 [torch]\n",
      "   ---------------------------------------- 0/2 [torch]\n",
      "   ---------------------------------------- 0/2 [torch]\n",
      "   ---------------------------------------- 0/2 [torch]\n",
      "   ---------------------------------------- 0/2 [torch]\n",
      "   ---------------------------------------- 0/2 [torch]\n",
      "   ---------------------------------------- 0/2 [torch]\n",
      "   ---------------------------------------- 0/2 [torch]\n",
      "   ---------------------------------------- 0/2 [torch]\n",
      "   ---------------------------------------- 0/2 [torch]\n",
      "   ---------------------------------------- 0/2 [torch]\n",
      "   ---------------------------------------- 0/2 [torch]\n",
      "   ---------------------------------------- 0/2 [torch]\n",
      "   -------------------- ------------------- 1/2 [torchtext]\n",
      "   -------------------- ------------------- 1/2 [torchtext]\n",
      "   -------------------- ------------------- 1/2 [torchtext]\n",
      "   ---------------------------------------- 2/2 [torchtext]\n",
      "\n",
      "Successfully installed torch-2.7.1 torchtext-0.18.0\n"
     ]
    },
    {
     "name": "stderr",
     "output_type": "stream",
     "text": [
      "  WARNING: The scripts torchfrtrace.exe and torchrun.exe are installed in 'C:\\Users\\bnaren3\\AppData\\Roaming\\Python\\Python311\\Scripts' which is not on PATH.\n",
      "  Consider adding this directory to PATH or, if you prefer to suppress this warning, use --no-warn-script-location.\n"
     ]
    },
    {
     "name": "stdout",
     "output_type": "stream",
     "text": [
      "Collecting transformers==4.40.2\n",
      "  Downloading transformers-4.40.2-py3-none-any.whl.metadata (137 kB)\n",
      "Requirement already satisfied: filelock in c:\\continuous learning\\fundamentals-of-ai-agents-using-rag-and-langchain\\.conda\\lib\\site-packages (from transformers==4.40.2) (3.18.0)\n",
      "Requirement already satisfied: huggingface-hub<1.0,>=0.19.3 in c:\\continuous learning\\fundamentals-of-ai-agents-using-rag-and-langchain\\.conda\\lib\\site-packages (from transformers==4.40.2) (0.34.3)\n",
      "Requirement already satisfied: numpy>=1.17 in c:\\continuous learning\\fundamentals-of-ai-agents-using-rag-and-langchain\\.conda\\lib\\site-packages (from transformers==4.40.2) (2.3.2)\n",
      "Requirement already satisfied: packaging>=20.0 in c:\\continuous learning\\fundamentals-of-ai-agents-using-rag-and-langchain\\.conda\\lib\\site-packages (from transformers==4.40.2) (25.0)\n",
      "Requirement already satisfied: pyyaml>=5.1 in c:\\continuous learning\\fundamentals-of-ai-agents-using-rag-and-langchain\\.conda\\lib\\site-packages (from transformers==4.40.2) (6.0.2)\n",
      "Requirement already satisfied: regex!=2019.12.17 in c:\\continuous learning\\fundamentals-of-ai-agents-using-rag-and-langchain\\.conda\\lib\\site-packages (from transformers==4.40.2) (2025.7.34)\n",
      "Requirement already satisfied: requests in c:\\continuous learning\\fundamentals-of-ai-agents-using-rag-and-langchain\\.conda\\lib\\site-packages (from transformers==4.40.2) (2.32.4)\n",
      "Collecting tokenizers<0.20,>=0.19 (from transformers==4.40.2)\n",
      "  Downloading tokenizers-0.19.1-cp311-none-win_amd64.whl.metadata (6.9 kB)\n",
      "Requirement already satisfied: safetensors>=0.4.1 in c:\\continuous learning\\fundamentals-of-ai-agents-using-rag-and-langchain\\.conda\\lib\\site-packages (from transformers==4.40.2) (0.5.3)\n",
      "Requirement already satisfied: tqdm>=4.27 in c:\\continuous learning\\fundamentals-of-ai-agents-using-rag-and-langchain\\.conda\\lib\\site-packages (from transformers==4.40.2) (4.67.1)\n",
      "Requirement already satisfied: fsspec>=2023.5.0 in c:\\continuous learning\\fundamentals-of-ai-agents-using-rag-and-langchain\\.conda\\lib\\site-packages (from huggingface-hub<1.0,>=0.19.3->transformers==4.40.2) (2025.3.0)\n",
      "Requirement already satisfied: typing-extensions>=3.7.4.3 in c:\\continuous learning\\fundamentals-of-ai-agents-using-rag-and-langchain\\.conda\\lib\\site-packages (from huggingface-hub<1.0,>=0.19.3->transformers==4.40.2) (4.12.2)\n",
      "Requirement already satisfied: colorama in c:\\continuous learning\\fundamentals-of-ai-agents-using-rag-and-langchain\\.conda\\lib\\site-packages (from tqdm>=4.27->transformers==4.40.2) (0.4.6)\n",
      "Requirement already satisfied: charset_normalizer<4,>=2 in c:\\continuous learning\\fundamentals-of-ai-agents-using-rag-and-langchain\\.conda\\lib\\site-packages (from requests->transformers==4.40.2) (3.4.2)\n",
      "Requirement already satisfied: idna<4,>=2.5 in c:\\continuous learning\\fundamentals-of-ai-agents-using-rag-and-langchain\\.conda\\lib\\site-packages (from requests->transformers==4.40.2) (3.10)\n",
      "Requirement already satisfied: urllib3<3,>=1.21.1 in c:\\continuous learning\\fundamentals-of-ai-agents-using-rag-and-langchain\\.conda\\lib\\site-packages (from requests->transformers==4.40.2) (2.5.0)\n",
      "Requirement already satisfied: certifi>=2017.4.17 in c:\\continuous learning\\fundamentals-of-ai-agents-using-rag-and-langchain\\.conda\\lib\\site-packages (from requests->transformers==4.40.2) (2025.7.14)\n",
      "Downloading transformers-4.40.2-py3-none-any.whl (9.0 MB)\n",
      "   ---------------------------------------- 0.0/9.0 MB ? eta -:--:--\n",
      "   --- ------------------------------------ 0.8/9.0 MB 6.7 MB/s eta 0:00:02\n",
      "   ------ --------------------------------- 1.6/9.0 MB 3.5 MB/s eta 0:00:03\n",
      "   ---------- ----------------------------- 2.4/9.0 MB 3.9 MB/s eta 0:00:02\n",
      "   ------------- -------------------------- 3.1/9.0 MB 3.8 MB/s eta 0:00:02\n",
      "   ----------------- ---------------------- 3.9/9.0 MB 3.7 MB/s eta 0:00:02\n",
      "   -------------------- ------------------- 4.7/9.0 MB 3.8 MB/s eta 0:00:02\n",
      "   ------------------------ --------------- 5.5/9.0 MB 3.8 MB/s eta 0:00:01\n",
      "   --------------------------- ------------ 6.3/9.0 MB 3.8 MB/s eta 0:00:01\n",
      "   ------------------------------- -------- 7.1/9.0 MB 3.9 MB/s eta 0:00:01\n",
      "   ------------------------------------ --- 8.1/9.0 MB 3.8 MB/s eta 0:00:01\n",
      "   ------------------------------------- -- 8.4/9.0 MB 3.9 MB/s eta 0:00:01\n",
      "   ---------------------------------------  8.9/9.0 MB 3.5 MB/s eta 0:00:01\n",
      "   ---------------------------------------- 9.0/9.0 MB 3.4 MB/s eta 0:00:00\n",
      "Downloading tokenizers-0.19.1-cp311-none-win_amd64.whl (2.2 MB)\n",
      "   ---------------------------------------- 0.0/2.2 MB ? eta -:--:--\n",
      "   -------------- ------------------------- 0.8/2.2 MB 4.8 MB/s eta 0:00:01\n",
      "   --------------------------------- ------ 1.8/2.2 MB 4.2 MB/s eta 0:00:01\n",
      "   ---------------------------------------- 2.2/2.2 MB 3.9 MB/s eta 0:00:00\n",
      "Installing collected packages: tokenizers, transformers\n",
      "\n",
      "   -------------------- ------------------- 1/2 [transformers]\n",
      "   -------------------- ------------------- 1/2 [transformers]\n",
      "   -------------------- ------------------- 1/2 [transformers]\n",
      "   -------------------- ------------------- 1/2 [transformers]\n",
      "   -------------------- ------------------- 1/2 [transformers]\n",
      "   -------------------- ------------------- 1/2 [transformers]\n",
      "   -------------------- ------------------- 1/2 [transformers]\n",
      "   -------------------- ------------------- 1/2 [transformers]\n",
      "   -------------------- ------------------- 1/2 [transformers]\n",
      "   -------------------- ------------------- 1/2 [transformers]\n",
      "   -------------------- ------------------- 1/2 [transformers]\n",
      "   -------------------- ------------------- 1/2 [transformers]\n",
      "   -------------------- ------------------- 1/2 [transformers]\n",
      "   -------------------- ------------------- 1/2 [transformers]\n",
      "   -------------------- ------------------- 1/2 [transformers]\n",
      "   -------------------- ------------------- 1/2 [transformers]\n",
      "   -------------------- ------------------- 1/2 [transformers]\n",
      "   -------------------- ------------------- 1/2 [transformers]\n",
      "   -------------------- ------------------- 1/2 [transformers]\n",
      "   -------------------- ------------------- 1/2 [transformers]\n",
      "   -------------------- ------------------- 1/2 [transformers]\n",
      "   -------------------- ------------------- 1/2 [transformers]\n",
      "   -------------------- ------------------- 1/2 [transformers]\n",
      "   -------------------- ------------------- 1/2 [transformers]\n",
      "   -------------------- ------------------- 1/2 [transformers]\n",
      "   -------------------- ------------------- 1/2 [transformers]\n",
      "   -------------------- ------------------- 1/2 [transformers]\n",
      "   -------------------- ------------------- 1/2 [transformers]\n",
      "   -------------------- ------------------- 1/2 [transformers]\n",
      "   -------------------- ------------------- 1/2 [transformers]\n",
      "   -------------------- ------------------- 1/2 [transformers]\n",
      "   -------------------- ------------------- 1/2 [transformers]\n",
      "   -------------------- ------------------- 1/2 [transformers]\n",
      "   -------------------- ------------------- 1/2 [transformers]\n",
      "   -------------------- ------------------- 1/2 [transformers]\n",
      "   -------------------- ------------------- 1/2 [transformers]\n",
      "   -------------------- ------------------- 1/2 [transformers]\n",
      "   -------------------- ------------------- 1/2 [transformers]\n",
      "   -------------------- ------------------- 1/2 [transformers]\n",
      "   -------------------- ------------------- 1/2 [transformers]\n",
      "   -------------------- ------------------- 1/2 [transformers]\n",
      "   -------------------- ------------------- 1/2 [transformers]\n",
      "   -------------------- ------------------- 1/2 [transformers]\n",
      "   -------------------- ------------------- 1/2 [transformers]\n",
      "   -------------------- ------------------- 1/2 [transformers]\n",
      "   -------------------- ------------------- 1/2 [transformers]\n",
      "   -------------------- ------------------- 1/2 [transformers]\n",
      "   -------------------- ------------------- 1/2 [transformers]\n",
      "   -------------------- ------------------- 1/2 [transformers]\n",
      "   -------------------- ------------------- 1/2 [transformers]\n",
      "   -------------------- ------------------- 1/2 [transformers]\n",
      "   -------------------- ------------------- 1/2 [transformers]\n",
      "   -------------------- ------------------- 1/2 [transformers]\n",
      "   -------------------- ------------------- 1/2 [transformers]\n",
      "   -------------------- ------------------- 1/2 [transformers]\n",
      "   -------------------- ------------------- 1/2 [transformers]\n",
      "   -------------------- ------------------- 1/2 [transformers]\n",
      "   -------------------- ------------------- 1/2 [transformers]\n",
      "   -------------------- ------------------- 1/2 [transformers]\n",
      "   -------------------- ------------------- 1/2 [transformers]\n",
      "   -------------------- ------------------- 1/2 [transformers]\n",
      "   -------------------- ------------------- 1/2 [transformers]\n",
      "   -------------------- ------------------- 1/2 [transformers]\n",
      "   -------------------- ------------------- 1/2 [transformers]\n",
      "   -------------------- ------------------- 1/2 [transformers]\n",
      "   -------------------- ------------------- 1/2 [transformers]\n",
      "   -------------------- ------------------- 1/2 [transformers]\n",
      "   -------------------- ------------------- 1/2 [transformers]\n",
      "   -------------------- ------------------- 1/2 [transformers]\n",
      "   -------------------- ------------------- 1/2 [transformers]\n",
      "   -------------------- ------------------- 1/2 [transformers]\n",
      "   -------------------- ------------------- 1/2 [transformers]\n",
      "   -------------------- ------------------- 1/2 [transformers]\n",
      "   -------------------- ------------------- 1/2 [transformers]\n",
      "   -------------------- ------------------- 1/2 [transformers]\n",
      "   -------------------- ------------------- 1/2 [transformers]\n",
      "   -------------------- ------------------- 1/2 [transformers]\n",
      "   -------------------- ------------------- 1/2 [transformers]\n",
      "   -------------------- ------------------- 1/2 [transformers]\n",
      "   -------------------- ------------------- 1/2 [transformers]\n",
      "   -------------------- ------------------- 1/2 [transformers]\n",
      "   -------------------- ------------------- 1/2 [transformers]\n",
      "   ---------------------------------------- 2/2 [transformers]\n",
      "\n",
      "Successfully installed tokenizers-0.19.1 transformers-4.40.2\n"
     ]
    },
    {
     "name": "stderr",
     "output_type": "stream",
     "text": [
      "  WARNING: The script transformers-cli.exe is installed in 'C:\\Users\\bnaren3\\AppData\\Roaming\\Python\\Python311\\Scripts' which is not on PATH.\n",
      "  Consider adding this directory to PATH or, if you prefer to suppress this warning, use --no-warn-script-location.\n"
     ]
    },
    {
     "name": "stdout",
     "output_type": "stream",
     "text": [
      "Collecting matplotlib==3.8.4\n",
      "  Downloading matplotlib-3.8.4-cp311-cp311-win_amd64.whl.metadata (5.9 kB)\n",
      "Requirement already satisfied: contourpy>=1.0.1 in c:\\continuous learning\\fundamentals-of-ai-agents-using-rag-and-langchain\\.conda\\lib\\site-packages (from matplotlib==3.8.4) (1.3.3)\n",
      "Requirement already satisfied: cycler>=0.10 in c:\\continuous learning\\fundamentals-of-ai-agents-using-rag-and-langchain\\.conda\\lib\\site-packages (from matplotlib==3.8.4) (0.12.1)\n",
      "Requirement already satisfied: fonttools>=4.22.0 in c:\\continuous learning\\fundamentals-of-ai-agents-using-rag-and-langchain\\.conda\\lib\\site-packages (from matplotlib==3.8.4) (4.59.0)\n",
      "Requirement already satisfied: kiwisolver>=1.3.1 in c:\\continuous learning\\fundamentals-of-ai-agents-using-rag-and-langchain\\.conda\\lib\\site-packages (from matplotlib==3.8.4) (1.4.8)\n",
      "Requirement already satisfied: numpy>=1.21 in c:\\continuous learning\\fundamentals-of-ai-agents-using-rag-and-langchain\\.conda\\lib\\site-packages (from matplotlib==3.8.4) (2.3.2)\n",
      "Requirement already satisfied: packaging>=20.0 in c:\\continuous learning\\fundamentals-of-ai-agents-using-rag-and-langchain\\.conda\\lib\\site-packages (from matplotlib==3.8.4) (25.0)\n",
      "Requirement already satisfied: pillow>=8 in c:\\continuous learning\\fundamentals-of-ai-agents-using-rag-and-langchain\\.conda\\lib\\site-packages (from matplotlib==3.8.4) (11.3.0)\n",
      "Requirement already satisfied: pyparsing>=2.3.1 in c:\\continuous learning\\fundamentals-of-ai-agents-using-rag-and-langchain\\.conda\\lib\\site-packages (from matplotlib==3.8.4) (3.2.3)\n",
      "Requirement already satisfied: python-dateutil>=2.7 in c:\\continuous learning\\fundamentals-of-ai-agents-using-rag-and-langchain\\.conda\\lib\\site-packages (from matplotlib==3.8.4) (2.9.0.post0)\n",
      "Requirement already satisfied: six>=1.5 in c:\\continuous learning\\fundamentals-of-ai-agents-using-rag-and-langchain\\.conda\\lib\\site-packages (from python-dateutil>=2.7->matplotlib==3.8.4) (1.17.0)\n",
      "Downloading matplotlib-3.8.4-cp311-cp311-win_amd64.whl (7.7 MB)\n",
      "   ---------------------------------------- 0.0/7.7 MB ? eta -:--:--\n",
      "   ---- ----------------------------------- 0.8/7.7 MB 11.2 MB/s eta 0:00:01\n",
      "   -------- ------------------------------- 1.6/7.7 MB 3.8 MB/s eta 0:00:02\n",
      "   ------------ --------------------------- 2.4/7.7 MB 4.1 MB/s eta 0:00:02\n",
      "   ---------------- ----------------------- 3.1/7.7 MB 4.1 MB/s eta 0:00:02\n",
      "   -------------------- ------------------- 3.9/7.7 MB 4.1 MB/s eta 0:00:01\n",
      "   -------------------------- ------------- 5.0/7.7 MB 4.0 MB/s eta 0:00:01\n",
      "   ------------------------------ --------- 5.8/7.7 MB 4.0 MB/s eta 0:00:01\n",
      "   ---------------------------------- ----- 6.6/7.7 MB 4.0 MB/s eta 0:00:01\n",
      "   -------------------------------------- - 7.3/7.7 MB 4.0 MB/s eta 0:00:01\n",
      "   ---------------------------------------- 7.7/7.7 MB 3.7 MB/s eta 0:00:00\n",
      "Installing collected packages: matplotlib\n",
      "Successfully installed matplotlib-3.8.4\n",
      "Collecting sentencepiece==0.2.0\n",
      "  Using cached sentencepiece-0.2.0-cp311-cp311-win_amd64.whl.metadata (8.3 kB)\n",
      "Using cached sentencepiece-0.2.0-cp311-cp311-win_amd64.whl (991 kB)\n",
      "Installing collected packages: sentencepiece\n",
      "Successfully installed sentencepiece-0.2.0\n",
      "Collecting scikit-learn==1.4.2\n",
      "  Downloading scikit_learn-1.4.2-cp311-cp311-win_amd64.whl.metadata (11 kB)\n",
      "Requirement already satisfied: numpy>=1.19.5 in c:\\continuous learning\\fundamentals-of-ai-agents-using-rag-and-langchain\\.conda\\lib\\site-packages (from scikit-learn==1.4.2) (2.3.2)\n",
      "Requirement already satisfied: scipy>=1.6.0 in c:\\continuous learning\\fundamentals-of-ai-agents-using-rag-and-langchain\\.conda\\lib\\site-packages (from scikit-learn==1.4.2) (1.16.1)\n",
      "Requirement already satisfied: joblib>=1.2.0 in c:\\continuous learning\\fundamentals-of-ai-agents-using-rag-and-langchain\\.conda\\lib\\site-packages (from scikit-learn==1.4.2) (1.5.1)\n",
      "Requirement already satisfied: threadpoolctl>=2.0.0 in c:\\continuous learning\\fundamentals-of-ai-agents-using-rag-and-langchain\\.conda\\lib\\site-packages (from scikit-learn==1.4.2) (3.6.0)\n",
      "Downloading scikit_learn-1.4.2-cp311-cp311-win_amd64.whl (10.6 MB)\n",
      "   ---------------------------------------- 0.0/10.6 MB ? eta -:--:--\n",
      "   -- ------------------------------------- 0.8/10.6 MB 8.3 MB/s eta 0:00:02\n",
      "   ----- ---------------------------------- 1.6/10.6 MB 4.0 MB/s eta 0:00:03\n",
      "   -------- ------------------------------- 2.4/10.6 MB 4.1 MB/s eta 0:00:03\n",
      "   ----------- ---------------------------- 3.1/10.6 MB 3.8 MB/s eta 0:00:02\n",
      "   -------------- ------------------------- 3.9/10.6 MB 3.8 MB/s eta 0:00:02\n",
      "   ----------------- ---------------------- 4.7/10.6 MB 3.9 MB/s eta 0:00:02\n",
      "   -------------------- ------------------- 5.5/10.6 MB 3.9 MB/s eta 0:00:02\n",
      "   ----------------------- ---------------- 6.3/10.6 MB 3.9 MB/s eta 0:00:02\n",
      "   -------------------------- ------------- 7.1/10.6 MB 3.9 MB/s eta 0:00:01\n",
      "   ----------------------------- ---------- 7.9/10.6 MB 3.9 MB/s eta 0:00:01\n",
      "   -------------------------------- ------- 8.7/10.6 MB 3.8 MB/s eta 0:00:01\n",
      "   ------------------------------------ --- 9.7/10.6 MB 3.9 MB/s eta 0:00:01\n",
      "   ---------------------------------------  10.5/10.6 MB 3.9 MB/s eta 0:00:01\n",
      "   ---------------------------------------- 10.6/10.6 MB 3.7 MB/s eta 0:00:00\n",
      "Installing collected packages: scikit-learn\n",
      "Successfully installed scikit-learn-1.4.2\n"
     ]
    }
   ],
   "source": [
    "!pip install --user numpy\n",
    "!pip install --user torch==2.2.0\n",
    "!pip install --user sacremoses==0.1.1\n",
    "!pip install --user torchtext\n",
    "!pip install --user transformers==4.40.2\n",
    "!pip install --user matplotlib==3.8.4\n",
    "!pip install --user sentencepiece==0.2.0\n",
    "!pip install --user scikit-learn==1.4.2"
   ]
  },
  {
   "cell_type": "markdown",
   "id": "9f21a3dc-77bb-4220-ab27-6efdf85899c3",
   "metadata": {},
   "source": [
    "### Importing required libraries\n"
   ]
  },
  {
   "cell_type": "code",
   "execution_count": 44,
   "id": "38eef07c-bcbe-4bb8-a505-1fd272f19779",
   "metadata": {},
   "outputs": [],
   "source": [
    "from tqdm import tqdm\n",
    "import numpy as np\n",
    "import torch\n",
    "from sklearn.manifold import TSNE\n",
    "import matplotlib.pyplot as plt\n",
    "\n",
    "# You can also use this section to suppress warnings generated by your code:\n",
    "def warn(*args, **kwargs):\n",
    "    pass\n",
    "import warnings\n",
    "warnings.warn = warn\n",
    "warnings.filterwarnings('ignore')"
   ]
  },
  {
   "cell_type": "markdown",
   "id": "888c39f5-b638-4db8-ae53-682224545b25",
   "metadata": {},
   "source": [
    "### Defining helper functions\n",
    "\n",
    "The `tsne_plot` function applies t-SNE to reduce high-dimensional data to three dimensions and creates a 3D scatter plot of the results. It sets the `perplexity` to the number of data points minus one, plots each point in a unique color based on its index, and labels the axes for each t-SNE component. The visualization helps in exploring patterns in a 3D space.\n"
   ]
  },
  {
   "cell_type": "code",
   "execution_count": 45,
   "id": "707b1805-d0d2-4bc1-ab4c-014950dbf7b8",
   "metadata": {},
   "outputs": [],
   "source": [
    "def tsne_plot(data, plot):\n",
    "    # Apply t-SNE to reduce to 3D\n",
    "    tsne = TSNE(n_components=3, random_state=42, perplexity=min(50, data.shape[0] - 1))  # Using 50 or less based on data size\n",
    "    data_3d = tsne.fit_transform(data)\n",
    "    \n",
    "    # Plotting\n",
    "    fig = plt.figure(figsize=(10, 7))\n",
    "    ax = fig.add_subplot(111, projection='3d')\n",
    "    \n",
    "    # Assign colors for each point based on its index\n",
    "    colors = plt.cm.rainbow(np.linspace(0, 1, len(data_3d)))\n",
    "    for idx, point in zip(range(len(data_3d)), data_3d):\n",
    "        ax.scatter(point[0], point[1], point[2], color=colors[idx], label=f'{plot} {idx+1}')\n",
    "    \n",
    "    # Adding labels and titles\n",
    "    ax.set_xlabel('TSNE Component 1')\n",
    "    ax.set_ylabel('TSNE Component 2')\n",
    "    ax.set_zlabel('TSNE Component 3')\n",
    "    plt.title('3D t-SNE Visualization of '+ plot +' Embeddings')\n",
    "    plt.legend(title=plot +' Index', bbox_to_anchor=(1.05, 1), loc='upper left')\n",
    "    plt.show()"
   ]
  },
  {
   "cell_type": "markdown",
   "id": "c1b1e827-39d1-4082-941a-0b0d73198698",
   "metadata": {},
   "source": [
    "# Embeddings using BERT and PyTorch Hub\n",
    "\n",
    "Use PyTorch and the Transformers library by Hugging Face to tokenize text, convert it to embeddings using BERT, and handle these embeddings with a model.\n",
    "\n",
    "## Loading tokenizer and model \n",
    "Let's begin by loading a tokenizer and later a model, both specifically bert-base-uncased. This is done using torch.hub.load, which is a convenient way to load pre-trained models and tokenizers directly from Hugging Face's model hub.\n"
   ]
  },
  {
   "cell_type": "code",
   "execution_count": 46,
   "id": "7d57b14d-8cd4-4743-9d00-b78e2d0c0ed3",
   "metadata": {},
   "outputs": [],
   "source": [
    "from transformers import BertTokenizer\n",
    "tokenizer = BertTokenizer.from_pretrained('bert-base-uncased')"
   ]
  },
  {
   "cell_type": "markdown",
   "id": "d013fba9-b143-4383-bb2f-a1bca3c4bda3",
   "metadata": {},
   "source": [
    "The input_text variable is set as a list of tuples. \n"
   ]
  },
  {
   "cell_type": "code",
   "execution_count": 47,
   "id": "48728b67-93d5-4277-802c-383a3d695086",
   "metadata": {},
   "outputs": [],
   "source": [
    "# Input text to get embeddings for\n",
    "input_text = [(\"This is an example sentence for BERT embeddings.\", \"How do you like it \"),(\"There are other models\")]"
   ]
  },
  {
   "cell_type": "markdown",
   "id": "c57e2f9d-c7af-4876-b4ed-bb79dd8a8342",
   "metadata": {},
   "source": [
    "### Tokenization\n",
    "\n",
    "```batch_encode_plus``` method is used for tokenizing text. It automatically handles padding and truncation to ensure uniformity in input length, which is crucial for batch processing in models like BERT.\n"
   ]
  },
  {
   "cell_type": "code",
   "execution_count": 48,
   "id": "9f862ae0-48a4-47df-811a-904cd2da0969",
   "metadata": {},
   "outputs": [
    {
     "data": {
      "text/plain": [
       "{'input_ids': [[101, 2023, 2003, 2019, 2742, 6251, 2005, 14324, 7861, 8270, 4667, 2015, 1012, 102, 2129, 2079, 2017, 2066, 2009, 102], [101, 2045, 2024, 2060, 4275, 102, 0, 0, 0, 0, 0, 0, 0, 0, 0, 0, 0, 0, 0, 0]], 'token_type_ids': [[0, 0, 0, 0, 0, 0, 0, 0, 0, 0, 0, 0, 0, 0, 1, 1, 1, 1, 1, 1], [0, 0, 0, 0, 0, 0, 0, 0, 0, 0, 0, 0, 0, 0, 0, 0, 0, 0, 0, 0]], 'attention_mask': [[1, 1, 1, 1, 1, 1, 1, 1, 1, 1, 1, 1, 1, 1, 1, 1, 1, 1, 1, 1], [1, 1, 1, 1, 1, 1, 0, 0, 0, 0, 0, 0, 0, 0, 0, 0, 0, 0, 0, 0]]}"
      ]
     },
     "execution_count": 48,
     "metadata": {},
     "output_type": "execute_result"
    }
   ],
   "source": [
    "input_ids = tokenizer.batch_encode_plus(input_text,add_special_tokens=True,padding=True,truncation=True)\n",
    "input_ids"
   ]
  },
  {
   "cell_type": "markdown",
   "id": "21364fb5-8533-4155-9c44-3458633eb939",
   "metadata": {},
   "source": [
    "### Text decoding and verification\n",
    "After tokenization, the script decodes the first tokenized input back to text to check the correctness and length of the tokenization process.\n"
   ]
  },
  {
   "cell_type": "code",
   "execution_count": 49,
   "id": "0f94242a-2e02-4797-aa1a-e80c4baeffb5",
   "metadata": {},
   "outputs": [
    {
     "name": "stdout",
     "output_type": "stream",
     "text": [
      "[CLS] this is an example sentence for bert embeddings. [SEP] how do you like it [SEP]\n",
      "length 16\n"
     ]
    }
   ],
   "source": [
    "text=tokenizer.decode(input_ids['input_ids'][0])\n",
    "print(text)\n",
    "print(f\"length {len(text.split())}\")"
   ]
  },
  {
   "cell_type": "code",
   "execution_count": 50,
   "id": "acf65322-f1e6-4489-8d22-ff34a608f281",
   "metadata": {},
   "outputs": [
    {
     "data": {
      "text/plain": [
       "[[1, 1, 1, 1, 1, 1, 1, 1, 1, 1, 1, 1, 1, 1, 1, 1, 1, 1, 1, 1],\n",
       " [1, 1, 1, 1, 1, 1, 0, 0, 0, 0, 0, 0, 0, 0, 0, 0, 0, 0, 0, 0]]"
      ]
     },
     "execution_count": 50,
     "metadata": {},
     "output_type": "execute_result"
    }
   ],
   "source": [
    "input_ids['attention_mask']"
   ]
  },
  {
   "cell_type": "markdown",
   "id": "05b64a28-eb9e-43a7-8a5b-34f0ea0fab71",
   "metadata": {},
   "source": [
    "\n",
    "When using the BERT tokenizer, the output includes key components that are essential for the model's processing:\n",
    "\n",
    "```input_ids```: A list of token IDs that represent each token in BERT's vocabulary.\n",
    "\n",
    "```token_type_ids```: Indicates which sentence each token belongs to, important for tasks involving sentence pairs.\n",
    "\n",
    "```attention_mask```: Identifies which tokens should be focused on, differentiating real content from padding.\n",
    "\n",
    "\n",
    "Special tokens:\n",
    "\n",
    "[CLS]: Placed at the start of every input for use in classification tasks.\n",
    "\n",
    "[SEP]: Separates sentences in dual-sentence tasks and marks the end of input sequences.\n"
   ]
  },
  {
   "cell_type": "markdown",
   "id": "dc440923-16c8-46c1-a98c-51be555b1a94",
   "metadata": {},
   "source": [
    "### Device and Convert Tensor\n",
    "Here, you are going to convert the token IDs and attention masks into PyTorch tensors and transfers them to a computing device (DEVICE) for input into BERT. This device should be defined elsewhere in the script (typically as \"cuda\" for GPU or \"cpu\").\n"
   ]
  },
  {
   "cell_type": "code",
   "execution_count": 51,
   "id": "3ec0cc75-78ac-4c49-bf0b-0dcfa68a47c3",
   "metadata": {},
   "outputs": [
    {
     "data": {
      "text/plain": [
       "device(type='cpu')"
      ]
     },
     "execution_count": 51,
     "metadata": {},
     "output_type": "execute_result"
    }
   ],
   "source": [
    "DEVICE = torch.device(\"cuda\" if torch.cuda.is_available() else \"cpu\")\n",
    "DEVICE"
   ]
  },
  {
   "cell_type": "code",
   "execution_count": 52,
   "id": "1ba4b918-f0a5-45a7-9049-b52138c22d79",
   "metadata": {},
   "outputs": [],
   "source": [
    "input_ids_tensors = torch.tensor(input_ids['input_ids']).to(DEVICE)\n",
    "mask_tensors = torch.tensor(input_ids['attention_mask']).to(DEVICE)"
   ]
  },
  {
   "cell_type": "markdown",
   "id": "1573361b-53e8-41ab-ba9f-7b5c1c7cb184",
   "metadata": {},
   "source": [
    "### Loading the BERT model\n",
    "Now, load the BERT model and move it to the same device as the input tensors. The model then processes these inputs to generate embeddings.\n"
   ]
  },
  {
   "cell_type": "code",
   "execution_count": 53,
   "id": "ad43b1db-c15f-4246-a34e-f7c3b21e91eb",
   "metadata": {},
   "outputs": [],
   "source": [
    "from transformers import BertModel\n",
    "bert_model = BertModel.from_pretrained('bert-base-uncased')"
   ]
  },
  {
   "cell_type": "code",
   "execution_count": 54,
   "id": "b4de13d7-f66c-4e29-ab09-68452bf405f7",
   "metadata": {},
   "outputs": [
    {
     "data": {
      "text/plain": [
       "BertModel(\n",
       "  (embeddings): BertEmbeddings(\n",
       "    (word_embeddings): Embedding(30522, 768, padding_idx=0)\n",
       "    (position_embeddings): Embedding(512, 768)\n",
       "    (token_type_embeddings): Embedding(2, 768)\n",
       "    (LayerNorm): LayerNorm((768,), eps=1e-12, elementwise_affine=True)\n",
       "    (dropout): Dropout(p=0.1, inplace=False)\n",
       "  )\n",
       "  (encoder): BertEncoder(\n",
       "    (layer): ModuleList(\n",
       "      (0-11): 12 x BertLayer(\n",
       "        (attention): BertAttention(\n",
       "          (self): BertSdpaSelfAttention(\n",
       "            (query): Linear(in_features=768, out_features=768, bias=True)\n",
       "            (key): Linear(in_features=768, out_features=768, bias=True)\n",
       "            (value): Linear(in_features=768, out_features=768, bias=True)\n",
       "            (dropout): Dropout(p=0.1, inplace=False)\n",
       "          )\n",
       "          (output): BertSelfOutput(\n",
       "            (dense): Linear(in_features=768, out_features=768, bias=True)\n",
       "            (LayerNorm): LayerNorm((768,), eps=1e-12, elementwise_affine=True)\n",
       "            (dropout): Dropout(p=0.1, inplace=False)\n",
       "          )\n",
       "        )\n",
       "        (intermediate): BertIntermediate(\n",
       "          (dense): Linear(in_features=768, out_features=3072, bias=True)\n",
       "          (intermediate_act_fn): GELUActivation()\n",
       "        )\n",
       "        (output): BertOutput(\n",
       "          (dense): Linear(in_features=3072, out_features=768, bias=True)\n",
       "          (LayerNorm): LayerNorm((768,), eps=1e-12, elementwise_affine=True)\n",
       "          (dropout): Dropout(p=0.1, inplace=False)\n",
       "        )\n",
       "      )\n",
       "    )\n",
       "  )\n",
       "  (pooler): BertPooler(\n",
       "    (dense): Linear(in_features=768, out_features=768, bias=True)\n",
       "    (activation): Tanh()\n",
       "  )\n",
       ")"
      ]
     },
     "execution_count": 54,
     "metadata": {},
     "output_type": "execute_result"
    }
   ],
   "source": [
    "bert_model.to(DEVICE)"
   ]
  },
  {
   "cell_type": "code",
   "execution_count": 55,
   "id": "2242348a-4789-4637-87bc-25162b54d01e",
   "metadata": {},
   "outputs": [],
   "source": [
    "word_embding=bert_model(input_ids_tensors,mask_tensors)"
   ]
  },
  {
   "cell_type": "markdown",
   "id": "c9235535-4899-4ca0-bcf1-a805db6cbb97",
   "metadata": {},
   "source": [
    "### Generating aggregated mean embeddings using BERT for RAG\n",
    "Here, you'll compute aggregated mean embeddings for input sequences using the BERT model you just loaded. It processes each pair of token IDs and attention masks from the input data, extracts word embeddings for non-padded tokens, and calculates their mean. The result is a list of mean embeddings for each sequence, which is then concatenated into a single tensor. This process allows for the generation of simplified yet informative representations of the input sequences, useful for tasks like clustering, similarity search, or as input to downstream models. Each document must be under 512 tokens.\n"
   ]
  },
  {
   "cell_type": "code",
   "execution_count": 56,
   "id": "f1d8b92c-71a4-47ab-b296-8e09b6a81e9b",
   "metadata": {},
   "outputs": [
    {
     "name": "stderr",
     "output_type": "stream",
     "text": [
      "2it [00:00, 15.15it/s]"
     ]
    },
    {
     "name": "stdout",
     "output_type": "stream",
     "text": [
      "token_ids_tensor shape: torch.Size([1, 20]) torch.Size([1, 20])\n",
      "Word embeddings shape: torch.Size([20, 768])\n",
      "Number of zero padding embeddings: 0\n",
      "valid_embeddings_mask: tensor([True, True, True, True, True, True, True, True, True, True, True, True,\n",
      "        True, True, True, True, True, True, True, True])\n",
      "Word embeddings after zero padding embeddings removed: torch.Size([20, 768])\n",
      "Mean embedding shape: torch.Size([768])\n",
      "token_ids_tensor shape: torch.Size([1, 20]) torch.Size([1, 20])\n",
      "Word embeddings shape: torch.Size([20, 768])\n",
      "Number of zero padding embeddings: 14\n",
      "valid_embeddings_mask: tensor([ True,  True,  True,  True,  True,  True, False, False, False, False,\n",
      "        False, False, False, False, False, False, False, False, False, False])\n",
      "Word embeddings after zero padding embeddings removed: torch.Size([6, 768])\n",
      "Mean embedding shape: torch.Size([768])\n",
      "All mean embeddings shape: torch.Size([2, 768])\n"
     ]
    },
    {
     "name": "stderr",
     "output_type": "stream",
     "text": [
      "\n"
     ]
    }
   ],
   "source": [
    "# Initialize a list to store the mean embeddings for each input sequence\n",
    "aggregated_mean_embeddings = []\n",
    "\n",
    "# Loop over each pair of input_ids and attention_masks\n",
    "for token_ids, attention_mask in tqdm(zip(input_ids['input_ids'], input_ids['attention_mask'])):\n",
    "    # Convert list of token ids and attention mask to tensors\n",
    "    token_ids_tensor = torch.tensor([token_ids]).to(DEVICE)\n",
    "    attention_mask_tensor = torch.tensor([attention_mask]).to(DEVICE)\n",
    "    print(\"token_ids_tensor shape:\",token_ids_tensor.shape, attention_mask_tensor.shape)  # Print the shapes of the input tensors\n",
    "    with torch.no_grad():  # Disable gradient calculations for faster execution\n",
    "        # Retrieve the batch of word embeddings from the BERT model\n",
    "        embeddings = bert_model(token_ids_tensor, attention_mask=attention_mask_tensor)[0].squeeze(0)\n",
    "        print(\"Word embeddings shape:\", embeddings.shape)\n",
    "        \n",
    "        # Count and print the number of zero-padding embeddings\n",
    "        num_zero_paddings = (attention_mask_tensor == 0).sum().item()\n",
    "        print(\"Number of zero padding embeddings:\", num_zero_paddings)\n",
    "        \n",
    "        # Create a mask for positions that are not zero-padded\n",
    "        valid_embeddings_mask = attention_mask_tensor[0] != 0\n",
    "        print(\"valid_embeddings_mask:\",valid_embeddings_mask)\n",
    "        \n",
    "        # Filter out the embeddings corresponding to zero-padded positions\n",
    "        filtered_embeddings = embeddings[valid_embeddings_mask, :]\n",
    "        print(\"Word embeddings after zero padding embeddings removed:\", filtered_embeddings.shape)\n",
    "        \n",
    "        # Compute the mean of the filtered embeddings\n",
    "        mean_embedding = filtered_embeddings.mean(axis=0)\n",
    "        print(\"Mean embedding shape:\", mean_embedding.shape)\n",
    "    \n",
    "        # Append the mean embedding to the list, adding a batch dimension\n",
    "        aggregated_mean_embeddings.append(mean_embedding.unsqueeze(0))\n",
    "\n",
    "# Concatenate all mean embeddings to form a single tensor\n",
    "aggregated_mean_embeddings = torch.cat(aggregated_mean_embeddings)\n",
    "print('All mean embeddings shape:', aggregated_mean_embeddings.shape)"
   ]
  },
  {
   "cell_type": "markdown",
   "id": "14929bf4-4c94-4e82-a058-3d053241c036",
   "metadata": {},
   "source": [
    "The above code is converted to the function ```aggregate_embeddings``` that takes token indices and their corresponding attention masks, and uses a BERT model to convert these tokens into word embeddings. It then filters out the embeddings for zero-padded tokens and computes the mean embedding for each sequence. This helps in reducing the dimensionality of the data while retaining the most important information from the embeddings.\n"
   ]
  },
  {
   "cell_type": "code",
   "execution_count": 57,
   "id": "9089762b-2762-4399-8df0-586971801c91",
   "metadata": {},
   "outputs": [],
   "source": [
    "def aggregate_embeddings(input_ids, attention_masks, bert_model=bert_model):\n",
    "    \"\"\"\n",
    "    Converts token indices and masks to word embeddings, filters out zero-padded embeddings,\n",
    "    and aggregates them by computing the mean embedding for each input sequence.\n",
    "\n",
    "    \"\"\"\n",
    "    mean_embeddings = []\n",
    "    # Process each sequence in the batch\n",
    "    print('number of inputs',len(input_ids))\n",
    "    for input_id, mask in tqdm(zip(input_ids, attention_masks)):\n",
    "        input_ids_tensor = torch.tensor([input_id]).to(DEVICE)\n",
    "        mask_tensor = torch.tensor([mask]).to(DEVICE)\n",
    "\n",
    "        with torch.no_grad():\n",
    "            # Obtain the word embeddings from the BERT model\n",
    "            word_embeddings = bert_model(input_ids_tensor, attention_mask=mask_tensor)[0].squeeze(0)\n",
    "\n",
    "            # Filter out the embeddings at positions where the mask is zero \n",
    "            valid_embeddings_mask=mask_tensor[0] != 0 \n",
    "            valid_embeddings = word_embeddings[valid_embeddings_mask,:]\n",
    "            # Compute the mean of the filtered embeddings\n",
    "            mean_embedding = valid_embeddings.mean(dim=0)\n",
    "            mean_embeddings.append(mean_embedding.unsqueeze(0))\n",
    "\n",
    "    # Concatenate the mean embeddings from all sequences in the batch\n",
    "    aggregated_mean_embeddings = torch.cat(mean_embeddings)\n",
    "    return aggregated_mean_embeddings"
   ]
  },
  {
   "cell_type": "markdown",
   "id": "3e3f5e6e-1deb-4587-8f25-c67af48a4b3d",
   "metadata": {},
   "source": [
    "Let's further simplify the process with the function ```text_to_emb``` which is designed to convert a list of text strings into their corresponding embeddings using a pre-defined tokenizer and calling ```aggregate_embeddings```.\n"
   ]
  },
  {
   "cell_type": "code",
   "execution_count": 58,
   "id": "6490e9a1-6253-4733-859f-8e65caca0829",
   "metadata": {},
   "outputs": [],
   "source": [
    "def text_to_emb(list_of_text,max_input=512):\n",
    "    data_token_index  = tokenizer.batch_encode_plus(list_of_text, add_special_tokens=True,padding=True,truncation=True,max_length=max_input)\n",
    "    question_embeddings=aggregate_embeddings(data_token_index['input_ids'], data_token_index['attention_mask'])\n",
    "    return question_embeddings"
   ]
  },
  {
   "cell_type": "markdown",
   "id": "4a372920-cba7-44fd-ae0e-146d38a98443",
   "metadata": {},
   "source": [
    "# Convert questions and the song lyrics into embeddings\n",
    "\n",
    "Let's first convert both the predefined appropriateness questions and the song lyrics into \"RAG embeddings\". Then, you measure the similarity between these embeddings to determine appropriateness:\n"
   ]
  },
  {
   "cell_type": "code",
   "execution_count": 59,
   "id": "93482a35-c527-4ee9-a28e-80e8b1daa052",
   "metadata": {},
   "outputs": [],
   "source": [
    "import re\n",
    "def process_song(song):\n",
    "    # Remove line breaks from the song\n",
    "    song_new = re.sub(r'[\\n]', ' ', song)\n",
    "    \n",
    "    # Remove single quotes from the song\n",
    "    song_new = [song_new.replace(\"\\'\", \"\")]\n",
    "    \n",
    "    return song_new"
   ]
  },
  {
   "cell_type": "markdown",
   "id": "4e5a597a-c92e-4246-93df-89637796d5f7",
   "metadata": {},
   "source": [
    "Here you can find more such sample questions.\n"
   ]
  },
  {
   "cell_type": "code",
   "execution_count": 60,
   "id": "cde04cd7-e636-46b4-b68a-06880b3e447b",
   "metadata": {},
   "outputs": [],
   "source": [
    "song_questions = [\n",
    "    \"Does this song contain any violent themes, such as references to guns, killing, or physical aggression? Example: Does the song describe or promote physical violence, like fighting or shootings?\",\n",
    "    \"Are there any explicit lyrics or bad words used in this song that might be considered offensive or inappropriate? Example: Does the song use language commonly recognized as profanity or derogatory terms?\",\n",
    "    \"Is the overall content of this song suitable for children, considering its themes, language, and messages? Example: Are there elements in the song that could be deemed too mature or unsuitable for young listeners?\",\n",
    "    \"Does this song explicitly mention weapons, such as guns, knives, or other similar items? Example: Are specific types of weapons described or glorified in the lyrics?\",\n",
    "    \"Are the messages conveyed in this song positive and uplifting for children? Example: Does the song promote values like kindness, friendship, and positivity?\",\n",
    "    \"Does this song include any sexual content, references to sexual behavior, or suggestive language? Example: Are there lyrics that explicitly or implicitly discuss sexual themes or experiences?\",\n",
    "    \"Does this song offer any educational value, such as teaching the alphabet, basic math, or other learning content? Example: Are there educational segments in the song that could help children learn fundamental skills like the ABCs or counting?\",\n",
    "    \"Does this song promote emotional resilience and social skills among children? Example: Does the song include themes of overcoming challenges or building friendships?\"\n",
    "]"
   ]
  },
  {
   "cell_type": "markdown",
   "id": "4d092a93-9c5f-4e74-98dc-e036d565b2b2",
   "metadata": {},
   "source": [
    "Let's convert the questions to embeddings.\n"
   ]
  },
  {
   "cell_type": "code",
   "execution_count": 61,
   "id": "a73805cb-2553-4693-812d-ab727c8a2e88",
   "metadata": {},
   "outputs": [
    {
     "name": "stdout",
     "output_type": "stream",
     "text": [
      "number of inputs 8\n"
     ]
    },
    {
     "name": "stderr",
     "output_type": "stream",
     "text": [
      "8it [00:00, 14.55it/s]\n"
     ]
    }
   ],
   "source": [
    "embeddings_questions=street=text_to_emb(song_questions)"
   ]
  },
  {
   "cell_type": "markdown",
   "id": "984511ee-25ea-4a3d-909f-896ae35ec448",
   "metadata": {},
   "source": [
    "Let's visualize the question embeddings through a t-SNE plot.\n"
   ]
  },
  {
   "cell_type": "code",
   "execution_count": 62,
   "id": "acbbd34b-48c6-4aec-84f3-46a603c9129c",
   "metadata": {},
   "outputs": [
    {
     "data": {
      "image/png": "[encoded data removed]",
      "text/plain": [
       "<Figure size 1000x700 with 1 Axes>"
      ]
     },
     "metadata": {},
     "output_type": "display_data"
    }
   ],
   "source": [
    "tsne_plot(embeddings_questions, \"Question\")"
   ]
  },
  {
   "cell_type": "markdown",
   "id": "a5516f74-fe25-412c-891d-3d95f49e99dd",
   "metadata": {},
   "source": [
    "Let's also develop a set of responses when a song has similar attributes. \n"
   ]
  },
  {
   "cell_type": "code",
   "execution_count": 63,
   "id": "cabbc53b-a629-4b98-b3e4-fa309a571d50",
   "metadata": {},
   "outputs": [],
   "source": [
    "yes_responses = [\n",
    "    \"Yes, this song contains violent themes, including references to guns, killing, or physical aggression, and is not suitable for children.\",\n",
    "    \"Yes, this song includes explicit lyrics or bad words that might be considered offensive or inappropriate for young audiences.\",\n",
    "    \"No, the overall content of this song is not suitable for children as it includes themes, language, and messages that are too mature or unsuitable for young listeners.\",\n",
    "    \"Yes, this song explicitly mentions weapons, such as guns and knives, which could be disturbing or inappropriate for children’s entertainment.\",\n",
    "    \"Yes, the messages conveyed in this song are positive and uplifting, promoting values like kindness, friendship, and positivity, beneficial for children.\",\n",
    "    \"Yes, this song includes sexual content and references to sexual behavior or suggestive language, which are inappropriate for a child-friendly environment.\",\n",
    "    \"Yes, this song offers significant educational value, including segments that teach the alphabet, basic math, and other learning content, making it both fun and educational for children.\",\n",
    "    \"Yes, this song promotes emotional resilience and social skills, incorporating themes about overcoming challenges and building friendships, which are essential for children's development.\"\n",
    "]"
   ]
  },
  {
   "cell_type": "markdown",
   "id": "2665b2f3-c8ae-49da-bf1e-cc121769d057",
   "metadata": {},
   "source": [
    "Convert the responses to their embeddings.\n"
   ]
  },
  {
   "cell_type": "code",
   "execution_count": 64,
   "id": "cbfe4a1f-4e0b-42c0-bc43-6e8094a6b434",
   "metadata": {},
   "outputs": [
    {
     "name": "stdout",
     "output_type": "stream",
     "text": [
      "number of inputs 8\n"
     ]
    },
    {
     "name": "stderr",
     "output_type": "stream",
     "text": [
      "8it [00:00, 13.42it/s]\n"
     ]
    }
   ],
   "source": [
    "embeddings_responses = text_to_emb(yes_responses)"
   ]
  },
  {
   "cell_type": "markdown",
   "id": "cf259e70-ad79-4d7d-86a8-266e3eaa0444",
   "metadata": {},
   "source": [
    "Visualize the responses embeddings through a t-SNE plot.\n"
   ]
  },
  {
   "cell_type": "code",
   "execution_count": 65,
   "id": "6c984a38-2398-4316-9497-b1027a343ad8",
   "metadata": {},
   "outputs": [
    {
     "data": {
      "image/png": "[encoded data removed]",
      "text/plain": [
       "<Figure size 1000x700 with 1 Axes>"
      ]
     },
     "metadata": {},
     "output_type": "display_data"
    }
   ],
   "source": [
    "tsne_plot(embeddings_responses, \"Response\")"
   ]
  },
  {
   "cell_type": "markdown",
   "id": "cf1802bd-8e7d-4662-8d80-8bc8e98f4a3a",
   "metadata": {},
   "source": [
    "Consider the song [Bullet in the Head](https://en.wikipedia.org/wiki/Bullet_in_the_Head_(song)) by the activist group 'Rage Against the Machine'. The band portrays the government's use of media as a tool for population control, drawing stark comparisons between ordinary residents and Alcatraz. This song is clearly geared towards adults and is not appropriate for children due to the explicit language and violent rhetoric, which could be confusing and unsuitable for younger audiences.\n",
    "\n",
    "<span style=\"color:red\">Note: To browse the lyrics you can go to [Bullet in the Head](https://www.google.com/search?q=bullet+in+your+head+lyrics&rlz=1C5GCCM_en&oq=bulet+in+you+head+l&gs_lcrp=EgZjaHJvbWUqCQgBEAAYDRiABDIGCAAQRRg5MgkIARAAGA0YgAQyCQgCEC4YDRiABDIJCAMQABgNGIAEMggIBBAAGBYYHjIICAUQABgWGB4yCAgGEAAYFhgeMggIBxAAGBYYHjIICAgQABgWGB4yCAgJEAAYFhge0gEINjM1NGowajeoAgCwAgA&sourceid=chrome&ie=UTF-8) and then paste the content of the song in below cell and process it as other songs. Also, note that the song lyrics is extremely abusive</span>\n",
    "\n"
   ]
  },
  {
   "cell_type": "code",
   "execution_count": 66,
   "id": "6c53cd86-5a11-4b6b-8ec8-2f073613e8e5",
   "metadata": {},
   "outputs": [],
   "source": [
    "song_rage = \"\"\"\n",
    "\"\"\""
   ]
  },
  {
   "cell_type": "markdown",
   "id": "bfa87327-ab7b-4937-949e-1b7710c124d8",
   "metadata": {},
   "source": [
    "After some minor preprocessing of the text, you can generate the RAG embeddings.\n"
   ]
  },
  {
   "cell_type": "code",
   "execution_count": 67,
   "id": "f67c4cbf-c02e-427d-b4c2-ad553532bfec",
   "metadata": {},
   "outputs": [
    {
     "name": "stdout",
     "output_type": "stream",
     "text": [
      "number of inputs 1\n"
     ]
    },
    {
     "name": "stderr",
     "output_type": "stream",
     "text": [
      "1it [00:00, 13.78it/s]\n"
     ]
    },
    {
     "data": {
      "text/plain": [
       "torch.Size([1, 768])"
      ]
     },
     "execution_count": 67,
     "metadata": {},
     "output_type": "execute_result"
    }
   ],
   "source": [
    "song_rage=process_song(song_rage)\n",
    "embeddings_rage=text_to_emb(song_rage)\n",
    "embeddings_rage.shape"
   ]
  },
  {
   "cell_type": "markdown",
   "id": "4b78d677-a824-4b98-aeab-5e1ac45eeaf9",
   "metadata": {},
   "source": [
    "Now consider the song [Can You Tell Me How to Get to Sesame Street?](https://en.wikipedia.org/wiki/Can_You_Tell_Me_How_to_Get_to_Sesame_Street%3F) — the introductory theme song of a popular children's show. Similar to previous methods, the text is processed to generate RAG embeddings.\n"
   ]
  },
  {
   "cell_type": "code",
   "execution_count": 68,
   "id": "d72e4aad-59b0-48e8-b3ca-f2d52cc43ab2",
   "metadata": {},
   "outputs": [],
   "source": [
    "sesame_street = \"\"\"\n",
    "Sunny day\n",
    "Sweepin' the clouds away\n",
    "On my way to where the air is sweet\n",
    "Can you tell me how to get\n",
    "How to get to Sesame Street?\n",
    "\n",
    "Come and play\n",
    "Everything's A-okay\n",
    "Friendly neighbors there\n",
    "That's where we meet\n",
    "Can you tell me how to get\n",
    "How to get to Sesame Street?\n",
    "\n",
    "It's a magic carpet ride\n",
    "Every door will open wide\n",
    "To happy people like you\n",
    "Happy people like\n",
    "What a beautiful\n",
    "\n",
    "Sunny day\n",
    "Sweepin' the clouds away\n",
    "On my way to where the air is sweet\n",
    "Can you tell me how to get\n",
    "How to get to Sesame Street?\n",
    "How to get to Sesame Street?\n",
    "How to get to Sesame Street?\n",
    "How to get to Sesame Street?\n",
    "How to get to Sesame Street?\n",
    "\"\"\""
   ]
  },
  {
   "cell_type": "code",
   "execution_count": 69,
   "id": "d58314b0-a41c-464f-bd35-86b607028e10",
   "metadata": {},
   "outputs": [
    {
     "name": "stdout",
     "output_type": "stream",
     "text": [
      "number of inputs 1\n"
     ]
    },
    {
     "name": "stderr",
     "output_type": "stream",
     "text": [
      "1it [00:00,  5.94it/s]\n"
     ]
    }
   ],
   "source": [
    "song_sesame_street= process_song(sesame_street)\n",
    "embeddings_sesame_street=text_to_emb(song_sesame_street)"
   ]
  },
  {
   "cell_type": "markdown",
   "id": "e4451b87-8b55-44b5-9504-10369fd998cd",
   "metadata": {},
   "source": [
    "Finally, you have the song [Straight Outta Compton](https://en.wikipedia.org/wiki/Straight_Outta_Compton) — a track known for its intense themes, which nearly led to it being banned in the U.S. As with the previous examples, process the lyrics to calculate the word embeddings for a detailed analysis of its content.\n"
   ]
  },
  {
   "cell_type": "markdown",
   "id": "f423c5da-a2ee-4cd8-9c23-cb63a29f2711",
   "metadata": {},
   "source": [
    "<span style=\"color:red\">Note: To browse the lyrics you can go to [Straight Outta Compton Lyrics](https://www.google.com/search?q=straight+outta+compton+song+lyrics&sca_esv=4f737f0b4de0cae7&sca_upv=1&rlz=1C5GCEM_enUS1092CA1092&sxsrf=ADLYWIIPASIwexxpdt-VqsvSF759A-iolw%3A1724787162733&ei=2inOZsW0LNSp5NoPq_XR6Qw&ved=0ahUKEwjFiZfx9JWIAxXUFFkFHat6NM0Q4dUDCA8&uact=5&oq=straight+outta+compton+song+lyrics&gs_lp=Egxnd3Mtd2l6LXNlcnAiInN0cmFpZ2h0IG91dHRhIGNvbXB0b24gc29uZyBseXJpY3MyCxAAGIAEGJECGIoFMgYQABgWGB4yBhAAGBYYHjIGEAAYFhgeMgsQABiABBiGAxiKBTILEAAYgAQYhgMYigUyCxAAGIAEGIYDGIoFMggQABiABBiiBDIIEAAYgAQYogQyCBAAGKIEGIkFSOQjUPEEWKghcAF4AZABAJgBqQGgAeAKqgEDNi42uAEDyAEA-AEBmAINoAKEC8ICChAAGLADGNYEGEfCAg0QABiABBiwAxhDGIoFwgIOEAAYsAMY5AIY1gTYAQHCAhMQLhiABBiwAxhDGMgDGIoF2AECwgIFEAAYgATCAg0QLhiABBixAxhDGIoFwgIKEAAYgAQYQxiKBcICChAuGIAEGEMYigXCAgUQLhiABMICHRAuGIAEGJcFGNwEGN4EGOAEGPQDGPEDGPUD2AEDwgIIEAAYFhgKGB6YAwCIBgGQBhK6BgYIARABGAm6BgYIAhABGAi6BgYIAxABGBSSBwM1LjigB7GKAQ&sclient=gws-wiz-serp) and then paste the content of the song in below cell and process it as other songs. Also, note that the song lyrics is extremely abusive</span>\n"
   ]
  },
  {
   "cell_type": "code",
   "execution_count": 70,
   "id": "0a24ce73-c469-4b86-872d-29ea212a8b6b",
   "metadata": {},
   "outputs": [],
   "source": [
    "straight_outta_compton_lyrics = \"\"\"\n",
    "\"\"\""
   ]
  },
  {
   "cell_type": "code",
   "execution_count": 71,
   "id": "45e19245-dcfd-4a62-b66a-ceaa09e6425e",
   "metadata": {},
   "outputs": [
    {
     "name": "stdout",
     "output_type": "stream",
     "text": [
      "number of inputs 1\n"
     ]
    },
    {
     "name": "stderr",
     "output_type": "stream",
     "text": [
      "1it [00:00, 19.88it/s]\n"
     ]
    }
   ],
   "source": [
    "straight_outta_compton_lyrics= process_song(straight_outta_compton_lyrics)\n",
    "embeddings_compton=text_to_emb(straight_outta_compton_lyrics)"
   ]
  },
  {
   "cell_type": "markdown",
   "id": "10d8ea72-4c05-4977-96e8-355886cee369",
   "metadata": {},
   "source": [
    "Let's consider one more song.\n"
   ]
  },
  {
   "cell_type": "code",
   "execution_count": 72,
   "id": "885176ed-ae87-4db1-b034-924f33eb0cd6",
   "metadata": {},
   "outputs": [],
   "source": [
    "my_shoe_lyrics=\"\"\"Barney is a dinosaur from our imagination\n",
    "And when he's tall\n",
    "He's what we call a dinosaur sensation\n",
    "Barney's friends are big and small\n",
    "They come from lots of places\n",
    "After school they meet to play\n",
    "And sing with happy faces\n",
    "Barney shows us lots of things\n",
    "Like how to play pretend\n",
    "ABC's, and 123's\n",
    "And how to be a friend\n",
    "Barney comes to play with us\n",
    "Whenever we may need him\n",
    "Barney can be your friend too\n",
    "If you just make-believe him!\"\"\""
   ]
  },
  {
   "cell_type": "code",
   "execution_count": 73,
   "id": "ef94f007-d492-47af-b8f5-2c183da731e7",
   "metadata": {},
   "outputs": [
    {
     "name": "stdout",
     "output_type": "stream",
     "text": [
      "number of inputs 1\n"
     ]
    },
    {
     "name": "stderr",
     "output_type": "stream",
     "text": [
      "1it [00:00,  7.74it/s]\n"
     ]
    }
   ],
   "source": [
    "my_shoe_lyrics= process_song(my_shoe_lyrics)\n",
    "embeddings_my_shoe=text_to_emb(my_shoe_lyrics)"
   ]
  },
  {
   "cell_type": "markdown",
   "id": "b90c25e4-4035-42e9-92a7-c39c7af8a326",
   "metadata": {},
   "source": [
    "Let's create a single array from the embeddings of the songs you have till now and plot it through the tsne_plot\n"
   ]
  },
  {
   "cell_type": "code",
   "execution_count": 74,
   "id": "cd4d9423-454f-40da-be11-bf764e2c22c6",
   "metadata": {},
   "outputs": [
    {
     "name": "stdout",
     "output_type": "stream",
     "text": [
      "number of inputs 1\n"
     ]
    },
    {
     "name": "stderr",
     "output_type": "stream",
     "text": [
      "1it [00:00, 20.55it/s]\n"
     ]
    },
    {
     "name": "stdout",
     "output_type": "stream",
     "text": [
      "number of inputs 1\n"
     ]
    },
    {
     "name": "stderr",
     "output_type": "stream",
     "text": [
      "1it [00:00,  6.54it/s]\n"
     ]
    },
    {
     "name": "stdout",
     "output_type": "stream",
     "text": [
      "number of inputs 1\n"
     ]
    },
    {
     "name": "stderr",
     "output_type": "stream",
     "text": [
      "1it [00:00, 21.01it/s]\n"
     ]
    },
    {
     "name": "stdout",
     "output_type": "stream",
     "text": [
      "number of inputs 1\n"
     ]
    },
    {
     "name": "stderr",
     "output_type": "stream",
     "text": [
      "1it [00:00,  8.02it/s]\n"
     ]
    }
   ],
   "source": [
    "songs = [song_rage, song_sesame_street, straight_outta_compton_lyrics, my_shoe_lyrics]\n",
    "embeddings = [text_to_emb(song) for song in songs]\n",
    "all_embeddings = np.vstack(embeddings)"
   ]
  },
  {
   "cell_type": "code",
   "execution_count": 75,
   "id": "d9d696d4-aeb1-4360-a8eb-2c9695f49768",
   "metadata": {},
   "outputs": [
    {
     "data": {
      "image/png": "[encoded data removed]",
      "text/plain": [
       "<Figure size 1000x700 with 1 Axes>"
      ]
     },
     "metadata": {},
     "output_type": "display_data"
    }
   ],
   "source": [
    "tsne_plot(all_embeddings, \"Song\")"
   ]
  },
  {
   "cell_type": "markdown",
   "id": "bb0c5631-cccb-4955-86f1-f515b471e943",
   "metadata": {},
   "source": [
    "# Understanding the dot product\n",
    "\n",
    "The dot product of two vectors, $\\mathbf{a}$ and $\\mathbf{b}$, each with components $a_i$ and $b_i$, is a fundamental operation in linear algebra calculated as follows:\n",
    "\n",
    "$\\mathbf{a} \\cdot \\mathbf{b} = \\sum_{i=1}^{n} a_i b_i$\n",
    "\n",
    "This calculation results in a single scalar value. Geometrically, the dot product quantifies how much one vector projects onto another or how close they are to eachother.\n",
    "\n",
    "Now, consider the matrix $A$, where each row is the RAG embeddings. In the context of matrix multiplication involving a dot product, if $A$ is a matrix and $\\mathbf{b}$ is a vector, then $A\\mathbf{b}$ computes the dot product of $\\mathbf{b}$ with each row of $A$. In this scenario, each vector in $A$ is treated as a row vector. Here, $A$ represents `embeddings_questions`, while `embeddings_rage` is the RAG vector $\\mathbf{b}$. The output is a column tensor that measures how closely each RAG vector for the questions aligns with the song.\n"
   ]
  },
  {
   "cell_type": "code",
   "execution_count": 76,
   "id": "d463c7df-2ff8-4170-83dd-3f0a7c1281db",
   "metadata": {},
   "outputs": [],
   "source": [
    "dot_product = embeddings_questions@embeddings_rage.T"
   ]
  },
  {
   "cell_type": "markdown",
   "id": "c70826b5-58be-4a65-a65b-0b0c4d9fc0f0",
   "metadata": {},
   "source": [
    "Reshape the tensor for processing.\n"
   ]
  },
  {
   "cell_type": "code",
   "execution_count": 77,
   "id": "80c4d7a4-6b8d-49b2-a070-23552207030e",
   "metadata": {},
   "outputs": [],
   "source": [
    "dot_product = dot_product.reshape(-1)"
   ]
  },
  {
   "cell_type": "markdown",
   "id": "57b8de2f-b6cb-4721-a256-57ef0212b632",
   "metadata": {},
   "source": [
    "You can find the questions that are closest to the song by sorting them and converting the result to a list.\n"
   ]
  },
  {
   "cell_type": "code",
   "execution_count": 78,
   "id": "8dc7292c-6f24-488c-8359-e125a23a4f9a",
   "metadata": {},
   "outputs": [],
   "source": [
    "sorted_indices = torch.argsort(dot_product,descending=True)\n",
    "sorted_indices=sorted_indices.tolist()"
   ]
  },
  {
   "cell_type": "markdown",
   "id": "659287f2-1891-4c45-a579-eb2d8b220d1d",
   "metadata": {},
   "source": [
    "The nearest vectors corresponding to the best response can be printed in the following manner. For simplicity, use the topmost response using ``yes_responses``.\n"
   ]
  },
  {
   "cell_type": "code",
   "execution_count": 79,
   "id": "4fb37c33-87e0-4e90-812c-61b6ceb300f3",
   "metadata": {},
   "outputs": [
    {
     "name": "stdout",
     "output_type": "stream",
     "text": [
      "Yes, this song includes sexual content and references to sexual behavior or suggestive language, which are inappropriate for a child-friendly environment.\n",
      "Yes, this song contains violent themes, including references to guns, killing, or physical aggression, and is not suitable for children.\n",
      "Yes, this song explicitly mentions weapons, such as guns and knives, which could be disturbing or inappropriate for children’s entertainment.\n"
     ]
    }
   ],
   "source": [
    "for indices in  sorted_indices[0:3]:\n",
    "    print(yes_responses[indices])"
   ]
  },
  {
   "cell_type": "markdown",
   "id": "d70f3317-63db-483b-8e94-64389136f7c0",
   "metadata": {},
   "source": [
    "Now, convert the above to a function where you only input the embeddings. \n"
   ]
  },
  {
   "cell_type": "code",
   "execution_count": 80,
   "id": "e3d13744-78a6-4458-ac05-9e8a068fa530",
   "metadata": {},
   "outputs": [],
   "source": [
    "def RAG_QA(embeddings_questions, embeddings, n_responses=3):\n",
    "    # Calculate the dot product between the question embeddings and the provided embeddings (transpose of the second matrix for proper alignment).\n",
    "    dot_product = embeddings_questions @ embeddings.T\n",
    "\n",
    "    # Reshape the dot product results to a 1D tensor for easier processing.\n",
    "    dot_product = dot_product.reshape(-1)\n",
    "\n",
    "    # Sort the indices of the dot product results in descending order (setting descending to False should be True for typical similarity tasks).\n",
    "    sorted_indices = torch.argsort(dot_product, descending=True)\n",
    "\n",
    "    # Convert sorted indices to a list for easier iteration.\n",
    "    sorted_indices = sorted_indices.tolist()\n",
    "\n",
    "    # Print the top 'n_responses' responses from the sorted list, which correspond to the highest dot product values.\n",
    "    for index in sorted_indices[:n_responses]:\n",
    "        print(yes_responses[index])"
   ]
  },
  {
   "cell_type": "markdown",
   "id": "055ad13a-203f-4720-bdfc-3a650c5df3ff",
   "metadata": {},
   "source": [
    "Now, use the ```RAG_QA``` for the songs defined above to see the top three responses by RAG.\n"
   ]
  },
  {
   "cell_type": "code",
   "execution_count": 81,
   "id": "3c44dbea-3dca-419f-aada-b5ec6604eb1d",
   "metadata": {},
   "outputs": [
    {
     "name": "stdout",
     "output_type": "stream",
     "text": [
      "Yes, the messages conveyed in this song are positive and uplifting, promoting values like kindness, friendship, and positivity, beneficial for children.\n",
      "Yes, this song offers significant educational value, including segments that teach the alphabet, basic math, and other learning content, making it both fun and educational for children.\n",
      "Yes, this song includes explicit lyrics or bad words that might be considered offensive or inappropriate for young audiences.\n"
     ]
    }
   ],
   "source": [
    "RAG_QA(embeddings_questions, embeddings_sesame_street)"
   ]
  },
  {
   "cell_type": "code",
   "execution_count": 82,
   "id": "0eeca9cb-c6e4-40ff-a08a-8e9649be9d31",
   "metadata": {},
   "outputs": [
    {
     "name": "stdout",
     "output_type": "stream",
     "text": [
      "Yes, this song includes sexual content and references to sexual behavior or suggestive language, which are inappropriate for a child-friendly environment.\n",
      "Yes, this song contains violent themes, including references to guns, killing, or physical aggression, and is not suitable for children.\n",
      "Yes, this song explicitly mentions weapons, such as guns and knives, which could be disturbing or inappropriate for children’s entertainment.\n"
     ]
    }
   ],
   "source": [
    "RAG_QA(embeddings_questions, embeddings_compton)"
   ]
  },
  {
   "cell_type": "code",
   "execution_count": 83,
   "id": "184d268e-fc68-4d51-b1a6-097d67306999",
   "metadata": {},
   "outputs": [
    {
     "name": "stdout",
     "output_type": "stream",
     "text": [
      "Yes, this song offers significant educational value, including segments that teach the alphabet, basic math, and other learning content, making it both fun and educational for children.\n",
      "Yes, this song includes explicit lyrics or bad words that might be considered offensive or inappropriate for young audiences.\n",
      "Yes, the messages conveyed in this song are positive and uplifting, promoting values like kindness, friendship, and positivity, beneficial for children.\n"
     ]
    }
   ],
   "source": [
    "RAG_QA(embeddings_questions, embeddings_my_shoe)"
   ]
  },
  {
   "cell_type": "markdown",
   "id": "ed69eb2d-df3c-4e0e-ab68-4f4ebc1fd77c",
   "metadata": {},
   "source": [
    "## Exercise\n",
    "\n",
    "In many machine learning and natural language processing tasks, measuring the similarity between vectors is crucial. While the dot product is a common measure, it considers both the magnitude and direction of the vectors. In contrast, **cosine similarity** measures the cosine of the angle between two vectors, providing a similarity value that purely reflects their orientation in space regardless of their magnitude. This makes cosine similarity particularly useful in text processing where only the directionality of the vectors (i.e., the orientation of the words in the vector space) matters, not their length.\n",
    "\n",
    "Your task is to modify the `RAG_QA()` function, which currently uses the dot product to find the most relevant responses to a given query. You will replace the dot product with cosine similarity to improve the function's ability to determine response relevance based solely on the direction of the vectors.\n",
    "\n",
    "### Task description\n",
    "1. **Modify the function**: Replace the dot product calculation in the `RAG_QA()` function with cosine similarity. Remember, cosine similarity is defined as:\n",
    "\n",
    "   $\n",
    "   \\text{Cosine Similarity} = \\frac{\\mathbf{A} \\cdot \\mathbf{B}}{\\|\\mathbf{A}\\| \\|\\mathbf{B}\\|}\n",
    "   $\n",
    "\n",
    "   where:\n",
    "   - $\\mathbf{A} \\cdot \\mathbf{B}$ is the dot product of vectors $\\mathbf{A}$ and $\\mathbf{B}$,\n",
    "   - $\\|\\mathbf{A}\\|$ and $\\|\\mathbf{B}\\|$ are the norms (or magnitudes) of vectors $\\mathbf{A}$ and $\\mathbf{B}$ respectively.\n",
    "\n",
    "2. **Calculate norms**: Compute the norms of the question embeddings and the response embeddings.\n",
    "\n",
    "3. **Compute cosine similarity**: Adjust the computation of similarity by dividing the dot product by the product of the norms of the question and response embeddings.\n",
    "\n",
    "4. **Sort and select responses**: After computing the cosine similarities, sort the responses based on these values and select the top responses as done currently with the dot product.\n"
   ]
  },
  {
   "cell_type": "code",
   "execution_count": 84,
   "id": "57253635-ec63-4c27-a97b-1b8bb55ff347",
   "metadata": {},
   "outputs": [
    {
     "name": "stdout",
     "output_type": "stream",
     "text": [
      "Yes, this song offers significant educational value, including segments that teach the alphabet, basic math, and other learning content, making it both fun and educational for children.\n",
      "Yes, the messages conveyed in this song are positive and uplifting, promoting values like kindness, friendship, and positivity, beneficial for children.\n",
      "No, the overall content of this song is not suitable for children as it includes themes, language, and messages that are too mature or unsuitable for young listeners.\n"
     ]
    }
   ],
   "source": [
    "# Write your code here\n",
    "def RAG_QA_cosine(embeddings, n_responses=3):\n",
    "    # Calculate the magnitudes (norms) of the question and response embeddings\n",
    "    question_norms = torch.norm(embeddings_questions, dim=1, keepdim=True)\n",
    "    response_norms = torch.norm(embeddings, dim=1, keepdim=True)\n",
    "    \n",
    "    # Calculate the dot product between the question embeddings and the provided embeddings (transpose of the second matrix for proper alignment)\n",
    "    dot_product = torch.mm(embeddings_questions, embeddings.T)\n",
    "    \n",
    "    # Calculate cosine similarity by dividing the dot product by the product of the magnitudes\n",
    "    cosine_similarity = dot_product / (question_norms * response_norms.T)\n",
    "    \n",
    "    # Flatten the cosine similarity tensor to a 1D tensor for easier processing\n",
    "    cosine_similarity = cosine_similarity.reshape(-1)\n",
    "    \n",
    "    # Sort the indices of the cosine similarity results in descending order to get the indices with the highest similarity\n",
    "    sorted_indices = torch.argsort(cosine_similarity, descending=True)\n",
    "    \n",
    "    # Convert sorted indices to a list for easier iteration\n",
    "    sorted_indices = sorted_indices.tolist()\n",
    "    \n",
    "    # Print the top 'n_responses' responses from the sorted list, which correspond to the highest cosine similarity values\n",
    "    for index in sorted_indices[:n_responses]:\n",
    "        print(yes_responses[index])  # Ensure 'responses' is defined and accessible in your scope\n",
    "\n",
    "RAG_QA_cosine(embeddings_my_shoe, n_responses=3)"
   ]
  },
  {
   "cell_type": "markdown",
   "id": "559724b0-9b72-4f3a-8bce-27cf47189cde",
   "metadata": {},
   "source": [
    "<details>\n",
    "    <summary>Click here for Solution</summary>\n",
    "\n",
    "```python\n",
    "def RAG_QA_cosine(embeddings, n_responses=3):\n",
    "    # Calculate the magnitudes (norms) of the question and response embeddings\n",
    "    question_norms = torch.norm(embeddings_questions, dim=1, keepdim=True)\n",
    "    response_norms = torch.norm(embeddings, dim=1, keepdim=True)\n",
    "    \n",
    "    # Calculate the dot product between the question embeddings and the provided embeddings (transpose of the second matrix for proper alignment)\n",
    "    dot_product = torch.mm(embeddings_questions, embeddings.T)\n",
    "    \n",
    "    # Calculate cosine similarity by dividing the dot product by the product of the magnitudes\n",
    "    cosine_similarity = dot_product / (question_norms * response_norms.T)\n",
    "    \n",
    "    # Flatten the cosine similarity tensor to a 1D tensor for easier processing\n",
    "    cosine_similarity = cosine_similarity.reshape(-1)\n",
    "    \n",
    "    # Sort the indices of the cosine similarity results in descending order to get the indices with the highest similarity\n",
    "    sorted_indices = torch.argsort(cosine_similarity, descending=True)\n",
    "    \n",
    "    # Convert sorted indices to a list for easier iteration\n",
    "    sorted_indices = sorted_indices.tolist()\n",
    "    \n",
    "    # Print the top 'n_responses' responses from the sorted list, which correspond to the highest cosine similarity values\n",
    "    for index in sorted_indices[:n_responses]:\n",
    "        print(yes_responses[index])  # Ensure 'responses' is defined and accessible in your scope\n",
    "\n",
    "RAG_QA_cosine(embeddings_my_shoe, n_responses=3)\n",
    "```\n",
    "\n",
    "</details>\n"
   ]
  },
  {
   "cell_type": "markdown",
   "id": "fce87097-6f3a-4425-bdc0-fe1e3ef88638",
   "metadata": {},
   "source": [
    "---\n"
   ]
  },
  {
   "cell_type": "markdown",
   "id": "9719e9a1-9cf5-40a0-80fb-9c3642a88934",
   "metadata": {},
   "source": [
    "## Congratulations! You have completed the lab\n"
   ]
  },
  {
   "cell_type": "markdown",
   "id": "cea6c642-b969-4b8b-8dee-04f5ac199ff7",
   "metadata": {},
   "source": [
    "## Authors\n"
   ]
  },
  {
   "cell_type": "markdown",
   "id": "ec9a6548-42b7-48c9-ac38-ed8882c1c4a5",
   "metadata": {},
   "source": [
    "[Joseph Santarcangelo](https://author.skills.network/instructors/joseph_santarcangelo) has a Ph.D. in Electrical Engineering, his research focused on using machine learning, signal processing, and computer vision to determine how videos impact human cognition. Joseph has been working for IBM since he completed his Ph.D.\n"
   ]
  },
  {
   "cell_type": "markdown",
   "id": "c146a11c-637e-412a-bc79-3c65f21c082f",
   "metadata": {},
   "source": [
    "[Ashutosh Sagar](https://www.linkedin.com/in/ashutoshsagar/) is completing his MS in CS from Dalhousie University. He has previous experience working with Natural Language Processing and as a Data Scientist.\n"
   ]
  },
  {
   "cell_type": "markdown",
   "id": "51a1a8cd-8fea-4b93-b408-b244c932daa8",
   "metadata": {},
   "source": [
    "© Copyright IBM Corporation. All rights reserved.\n"
   ]
  }
 ],
 "metadata": {
  "kernelspec": {
   "display_name": ".conda",
   "language": "python",
   "name": "python3"
  },
  "language_info": {
   "codemirror_mode": {
    "name": "ipython",
    "version": 3
   },
   "file_extension": ".py",
   "mimetype": "text/x-python",
   "name": "python",
   "nbconvert_exporter": "python",
   "pygments_lexer": "ipython3",
   "version": "3.11.13"
  },
  "prev_pub_hash": "b27f5e3db1990e52e970cbcc7c870276b4078dc7c7324948347a06b5ae704ff2"
 },
 "nbformat": 4,
 "nbformat_minor": 4
}
